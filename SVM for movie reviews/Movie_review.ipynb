{
  "nbformat": 4,
  "nbformat_minor": 0,
  "metadata": {
    "colab": {
      "provenance": []
    },
    "kernelspec": {
      "name": "python3",
      "display_name": "Python 3"
    },
    "language_info": {
      "name": "python"
    }
  },
  "cells": [
    {
      "cell_type": "markdown",
      "source": [
        "# **1. Import the necessary packeges**"
      ],
      "metadata": {
        "id": "CgX_s7w3GbGv"
      }
    },
    {
      "cell_type": "code",
      "source": [
        "import pandas as pd\n",
        "from sklearn.feature_extraction.text import TfidfVectorizer\n",
        "from sklearn import svm\n",
        "from sklearn.metrics import classification_report"
      ],
      "metadata": {
        "id": "y4Axoav-hSXr"
      },
      "execution_count": 35,
      "outputs": []
    },
    {
      "cell_type": "markdown",
      "source": [
        "# **2. Read and explore the dataset**"
      ],
      "metadata": {
        "id": "Yi03ESBa9OD2"
      }
    },
    {
      "cell_type": "markdown",
      "source": [
        "## 2.1 Read and explore the train dataset"
      ],
      "metadata": {
        "id": "rpOXYvTpkysP"
      }
    },
    {
      "cell_type": "code",
      "source": [
        "movie_reviews_training = pd.read_csv(\"movie_reviews_train.csv\", on_bad_lines='skip')"
      ],
      "metadata": {
        "id": "8U0OxP3XkoEA"
      },
      "execution_count": 36,
      "outputs": []
    },
    {
      "cell_type": "code",
      "source": [
        "movie_reviews_training"
      ],
      "metadata": {
        "id": "FiOCnuytkrSH",
        "colab": {
          "base_uri": "https://localhost:8080/",
          "height": 423
        },
        "outputId": "3fa63707-3f31-4012-c20a-3bee2741663a"
      },
      "execution_count": 68,
      "outputs": [
        {
          "output_type": "execute_result",
          "data": {
            "text/plain": [
              "                                                Content  Label\n",
              "0     every once in a while you see a film that is s...      1\n",
              "1     the love for family is one of the strongest dr...      1\n",
              "2     after the terminally bleak reservoir dogs and ...      1\n",
              "3      ( warning to those who have not seen seven : ...      1\n",
              "4     having not seen , \" who framed roger rabbit \" ...      1\n",
              "...                                                 ...    ...\n",
              "1795   \" holy man \" boasts a sweet , gentle , comic ...      0\n",
              "1796  alexander dumas' the three musketeers is one o...      0\n",
              "1797   \" have you ever heard the one about a movie s...      0\n",
              "1798  this is the first film in what would become th...      0\n",
              "1799  first impressions : critically , a close-to-aw...      0\n",
              "\n",
              "[1800 rows x 2 columns]"
            ],
            "text/html": [
              "\n",
              "  <div id=\"df-f9fc2c62-02d5-4b6b-b988-85bc8f3abb89\" class=\"colab-df-container\">\n",
              "    <div>\n",
              "<style scoped>\n",
              "    .dataframe tbody tr th:only-of-type {\n",
              "        vertical-align: middle;\n",
              "    }\n",
              "\n",
              "    .dataframe tbody tr th {\n",
              "        vertical-align: top;\n",
              "    }\n",
              "\n",
              "    .dataframe thead th {\n",
              "        text-align: right;\n",
              "    }\n",
              "</style>\n",
              "<table border=\"1\" class=\"dataframe\">\n",
              "  <thead>\n",
              "    <tr style=\"text-align: right;\">\n",
              "      <th></th>\n",
              "      <th>Content</th>\n",
              "      <th>Label</th>\n",
              "    </tr>\n",
              "  </thead>\n",
              "  <tbody>\n",
              "    <tr>\n",
              "      <th>0</th>\n",
              "      <td>every once in a while you see a film that is s...</td>\n",
              "      <td>1</td>\n",
              "    </tr>\n",
              "    <tr>\n",
              "      <th>1</th>\n",
              "      <td>the love for family is one of the strongest dr...</td>\n",
              "      <td>1</td>\n",
              "    </tr>\n",
              "    <tr>\n",
              "      <th>2</th>\n",
              "      <td>after the terminally bleak reservoir dogs and ...</td>\n",
              "      <td>1</td>\n",
              "    </tr>\n",
              "    <tr>\n",
              "      <th>3</th>\n",
              "      <td>( warning to those who have not seen seven : ...</td>\n",
              "      <td>1</td>\n",
              "    </tr>\n",
              "    <tr>\n",
              "      <th>4</th>\n",
              "      <td>having not seen , \" who framed roger rabbit \" ...</td>\n",
              "      <td>1</td>\n",
              "    </tr>\n",
              "    <tr>\n",
              "      <th>...</th>\n",
              "      <td>...</td>\n",
              "      <td>...</td>\n",
              "    </tr>\n",
              "    <tr>\n",
              "      <th>1795</th>\n",
              "      <td>\" holy man \" boasts a sweet , gentle , comic ...</td>\n",
              "      <td>0</td>\n",
              "    </tr>\n",
              "    <tr>\n",
              "      <th>1796</th>\n",
              "      <td>alexander dumas' the three musketeers is one o...</td>\n",
              "      <td>0</td>\n",
              "    </tr>\n",
              "    <tr>\n",
              "      <th>1797</th>\n",
              "      <td>\" have you ever heard the one about a movie s...</td>\n",
              "      <td>0</td>\n",
              "    </tr>\n",
              "    <tr>\n",
              "      <th>1798</th>\n",
              "      <td>this is the first film in what would become th...</td>\n",
              "      <td>0</td>\n",
              "    </tr>\n",
              "    <tr>\n",
              "      <th>1799</th>\n",
              "      <td>first impressions : critically , a close-to-aw...</td>\n",
              "      <td>0</td>\n",
              "    </tr>\n",
              "  </tbody>\n",
              "</table>\n",
              "<p>1800 rows × 2 columns</p>\n",
              "</div>\n",
              "    <div class=\"colab-df-buttons\">\n",
              "\n",
              "  <div class=\"colab-df-container\">\n",
              "    <button class=\"colab-df-convert\" onclick=\"convertToInteractive('df-f9fc2c62-02d5-4b6b-b988-85bc8f3abb89')\"\n",
              "            title=\"Convert this dataframe to an interactive table.\"\n",
              "            style=\"display:none;\">\n",
              "\n",
              "  <svg xmlns=\"http://www.w3.org/2000/svg\" height=\"24px\" viewBox=\"0 -960 960 960\">\n",
              "    <path d=\"M120-120v-720h720v720H120Zm60-500h600v-160H180v160Zm220 220h160v-160H400v160Zm0 220h160v-160H400v160ZM180-400h160v-160H180v160Zm440 0h160v-160H620v160ZM180-180h160v-160H180v160Zm440 0h160v-160H620v160Z\"/>\n",
              "  </svg>\n",
              "    </button>\n",
              "\n",
              "  <style>\n",
              "    .colab-df-container {\n",
              "      display:flex;\n",
              "      gap: 12px;\n",
              "    }\n",
              "\n",
              "    .colab-df-convert {\n",
              "      background-color: #E8F0FE;\n",
              "      border: none;\n",
              "      border-radius: 50%;\n",
              "      cursor: pointer;\n",
              "      display: none;\n",
              "      fill: #1967D2;\n",
              "      height: 32px;\n",
              "      padding: 0 0 0 0;\n",
              "      width: 32px;\n",
              "    }\n",
              "\n",
              "    .colab-df-convert:hover {\n",
              "      background-color: #E2EBFA;\n",
              "      box-shadow: 0px 1px 2px rgba(60, 64, 67, 0.3), 0px 1px 3px 1px rgba(60, 64, 67, 0.15);\n",
              "      fill: #174EA6;\n",
              "    }\n",
              "\n",
              "    .colab-df-buttons div {\n",
              "      margin-bottom: 4px;\n",
              "    }\n",
              "\n",
              "    [theme=dark] .colab-df-convert {\n",
              "      background-color: #3B4455;\n",
              "      fill: #D2E3FC;\n",
              "    }\n",
              "\n",
              "    [theme=dark] .colab-df-convert:hover {\n",
              "      background-color: #434B5C;\n",
              "      box-shadow: 0px 1px 3px 1px rgba(0, 0, 0, 0.15);\n",
              "      filter: drop-shadow(0px 1px 2px rgba(0, 0, 0, 0.3));\n",
              "      fill: #FFFFFF;\n",
              "    }\n",
              "  </style>\n",
              "\n",
              "    <script>\n",
              "      const buttonEl =\n",
              "        document.querySelector('#df-f9fc2c62-02d5-4b6b-b988-85bc8f3abb89 button.colab-df-convert');\n",
              "      buttonEl.style.display =\n",
              "        google.colab.kernel.accessAllowed ? 'block' : 'none';\n",
              "\n",
              "      async function convertToInteractive(key) {\n",
              "        const element = document.querySelector('#df-f9fc2c62-02d5-4b6b-b988-85bc8f3abb89');\n",
              "        const dataTable =\n",
              "          await google.colab.kernel.invokeFunction('convertToInteractive',\n",
              "                                                    [key], {});\n",
              "        if (!dataTable) return;\n",
              "\n",
              "        const docLinkHtml = 'Like what you see? Visit the ' +\n",
              "          '<a target=\"_blank\" href=https://colab.research.google.com/notebooks/data_table.ipynb>data table notebook</a>'\n",
              "          + ' to learn more about interactive tables.';\n",
              "        element.innerHTML = '';\n",
              "        dataTable['output_type'] = 'display_data';\n",
              "        await google.colab.output.renderOutput(dataTable, element);\n",
              "        const docLink = document.createElement('div');\n",
              "        docLink.innerHTML = docLinkHtml;\n",
              "        element.appendChild(docLink);\n",
              "      }\n",
              "    </script>\n",
              "  </div>\n",
              "\n",
              "\n",
              "<div id=\"df-86a3bd1b-136f-4efe-bb11-1a1428de5d8a\">\n",
              "  <button class=\"colab-df-quickchart\" onclick=\"quickchart('df-86a3bd1b-136f-4efe-bb11-1a1428de5d8a')\"\n",
              "            title=\"Suggest charts\"\n",
              "            style=\"display:none;\">\n",
              "\n",
              "<svg xmlns=\"http://www.w3.org/2000/svg\" height=\"24px\"viewBox=\"0 0 24 24\"\n",
              "     width=\"24px\">\n",
              "    <g>\n",
              "        <path d=\"M19 3H5c-1.1 0-2 .9-2 2v14c0 1.1.9 2 2 2h14c1.1 0 2-.9 2-2V5c0-1.1-.9-2-2-2zM9 17H7v-7h2v7zm4 0h-2V7h2v10zm4 0h-2v-4h2v4z\"/>\n",
              "    </g>\n",
              "</svg>\n",
              "  </button>\n",
              "\n",
              "<style>\n",
              "  .colab-df-quickchart {\n",
              "      --bg-color: #E8F0FE;\n",
              "      --fill-color: #1967D2;\n",
              "      --hover-bg-color: #E2EBFA;\n",
              "      --hover-fill-color: #174EA6;\n",
              "      --disabled-fill-color: #AAA;\n",
              "      --disabled-bg-color: #DDD;\n",
              "  }\n",
              "\n",
              "  [theme=dark] .colab-df-quickchart {\n",
              "      --bg-color: #3B4455;\n",
              "      --fill-color: #D2E3FC;\n",
              "      --hover-bg-color: #434B5C;\n",
              "      --hover-fill-color: #FFFFFF;\n",
              "      --disabled-bg-color: #3B4455;\n",
              "      --disabled-fill-color: #666;\n",
              "  }\n",
              "\n",
              "  .colab-df-quickchart {\n",
              "    background-color: var(--bg-color);\n",
              "    border: none;\n",
              "    border-radius: 50%;\n",
              "    cursor: pointer;\n",
              "    display: none;\n",
              "    fill: var(--fill-color);\n",
              "    height: 32px;\n",
              "    padding: 0;\n",
              "    width: 32px;\n",
              "  }\n",
              "\n",
              "  .colab-df-quickchart:hover {\n",
              "    background-color: var(--hover-bg-color);\n",
              "    box-shadow: 0 1px 2px rgba(60, 64, 67, 0.3), 0 1px 3px 1px rgba(60, 64, 67, 0.15);\n",
              "    fill: var(--button-hover-fill-color);\n",
              "  }\n",
              "\n",
              "  .colab-df-quickchart-complete:disabled,\n",
              "  .colab-df-quickchart-complete:disabled:hover {\n",
              "    background-color: var(--disabled-bg-color);\n",
              "    fill: var(--disabled-fill-color);\n",
              "    box-shadow: none;\n",
              "  }\n",
              "\n",
              "  .colab-df-spinner {\n",
              "    border: 2px solid var(--fill-color);\n",
              "    border-color: transparent;\n",
              "    border-bottom-color: var(--fill-color);\n",
              "    animation:\n",
              "      spin 1s steps(1) infinite;\n",
              "  }\n",
              "\n",
              "  @keyframes spin {\n",
              "    0% {\n",
              "      border-color: transparent;\n",
              "      border-bottom-color: var(--fill-color);\n",
              "      border-left-color: var(--fill-color);\n",
              "    }\n",
              "    20% {\n",
              "      border-color: transparent;\n",
              "      border-left-color: var(--fill-color);\n",
              "      border-top-color: var(--fill-color);\n",
              "    }\n",
              "    30% {\n",
              "      border-color: transparent;\n",
              "      border-left-color: var(--fill-color);\n",
              "      border-top-color: var(--fill-color);\n",
              "      border-right-color: var(--fill-color);\n",
              "    }\n",
              "    40% {\n",
              "      border-color: transparent;\n",
              "      border-right-color: var(--fill-color);\n",
              "      border-top-color: var(--fill-color);\n",
              "    }\n",
              "    60% {\n",
              "      border-color: transparent;\n",
              "      border-right-color: var(--fill-color);\n",
              "    }\n",
              "    80% {\n",
              "      border-color: transparent;\n",
              "      border-right-color: var(--fill-color);\n",
              "      border-bottom-color: var(--fill-color);\n",
              "    }\n",
              "    90% {\n",
              "      border-color: transparent;\n",
              "      border-bottom-color: var(--fill-color);\n",
              "    }\n",
              "  }\n",
              "</style>\n",
              "\n",
              "  <script>\n",
              "    async function quickchart(key) {\n",
              "      const quickchartButtonEl =\n",
              "        document.querySelector('#' + key + ' button');\n",
              "      quickchartButtonEl.disabled = true;  // To prevent multiple clicks.\n",
              "      quickchartButtonEl.classList.add('colab-df-spinner');\n",
              "      try {\n",
              "        const charts = await google.colab.kernel.invokeFunction(\n",
              "            'suggestCharts', [key], {});\n",
              "      } catch (error) {\n",
              "        console.error('Error during call to suggestCharts:', error);\n",
              "      }\n",
              "      quickchartButtonEl.classList.remove('colab-df-spinner');\n",
              "      quickchartButtonEl.classList.add('colab-df-quickchart-complete');\n",
              "    }\n",
              "    (() => {\n",
              "      let quickchartButtonEl =\n",
              "        document.querySelector('#df-86a3bd1b-136f-4efe-bb11-1a1428de5d8a button');\n",
              "      quickchartButtonEl.style.display =\n",
              "        google.colab.kernel.accessAllowed ? 'block' : 'none';\n",
              "    })();\n",
              "  </script>\n",
              "</div>\n",
              "\n",
              "  <div id=\"id_9cf8a076-479b-4c44-a1ab-329d94f06a0e\">\n",
              "    <style>\n",
              "      .colab-df-generate {\n",
              "        background-color: #E8F0FE;\n",
              "        border: none;\n",
              "        border-radius: 50%;\n",
              "        cursor: pointer;\n",
              "        display: none;\n",
              "        fill: #1967D2;\n",
              "        height: 32px;\n",
              "        padding: 0 0 0 0;\n",
              "        width: 32px;\n",
              "      }\n",
              "\n",
              "      .colab-df-generate:hover {\n",
              "        background-color: #E2EBFA;\n",
              "        box-shadow: 0px 1px 2px rgba(60, 64, 67, 0.3), 0px 1px 3px 1px rgba(60, 64, 67, 0.15);\n",
              "        fill: #174EA6;\n",
              "      }\n",
              "\n",
              "      [theme=dark] .colab-df-generate {\n",
              "        background-color: #3B4455;\n",
              "        fill: #D2E3FC;\n",
              "      }\n",
              "\n",
              "      [theme=dark] .colab-df-generate:hover {\n",
              "        background-color: #434B5C;\n",
              "        box-shadow: 0px 1px 3px 1px rgba(0, 0, 0, 0.15);\n",
              "        filter: drop-shadow(0px 1px 2px rgba(0, 0, 0, 0.3));\n",
              "        fill: #FFFFFF;\n",
              "      }\n",
              "    </style>\n",
              "    <button class=\"colab-df-generate\" onclick=\"generateWithVariable('movie_reviews_training')\"\n",
              "            title=\"Generate code using this dataframe.\"\n",
              "            style=\"display:none;\">\n",
              "\n",
              "  <svg xmlns=\"http://www.w3.org/2000/svg\" height=\"24px\"viewBox=\"0 0 24 24\"\n",
              "       width=\"24px\">\n",
              "    <path d=\"M7,19H8.4L18.45,9,17,7.55,7,17.6ZM5,21V16.75L18.45,3.32a2,2,0,0,1,2.83,0l1.4,1.43a1.91,1.91,0,0,1,.58,1.4,1.91,1.91,0,0,1-.58,1.4L9.25,21ZM18.45,9,17,7.55Zm-12,3A5.31,5.31,0,0,0,4.9,8.1,5.31,5.31,0,0,0,1,6.5,5.31,5.31,0,0,0,4.9,4.9,5.31,5.31,0,0,0,6.5,1,5.31,5.31,0,0,0,8.1,4.9,5.31,5.31,0,0,0,12,6.5,5.46,5.46,0,0,0,6.5,12Z\"/>\n",
              "  </svg>\n",
              "    </button>\n",
              "    <script>\n",
              "      (() => {\n",
              "      const buttonEl =\n",
              "        document.querySelector('#id_9cf8a076-479b-4c44-a1ab-329d94f06a0e button.colab-df-generate');\n",
              "      buttonEl.style.display =\n",
              "        google.colab.kernel.accessAllowed ? 'block' : 'none';\n",
              "\n",
              "      buttonEl.onclick = () => {\n",
              "        google.colab.notebook.generateWithVariable('movie_reviews_training');\n",
              "      }\n",
              "      })();\n",
              "    </script>\n",
              "  </div>\n",
              "\n",
              "    </div>\n",
              "  </div>\n"
            ],
            "application/vnd.google.colaboratory.intrinsic+json": {
              "type": "dataframe",
              "variable_name": "movie_reviews_training",
              "summary": "{\n  \"name\": \"movie_reviews_training\",\n  \"rows\": 1800,\n  \"fields\": [\n    {\n      \"column\": \"Content\",\n      \"properties\": {\n        \"dtype\": \"string\",\n        \"num_unique_values\": 1800,\n        \"samples\": [\n          \" \\\" return to horror high , \\\" wants to be a couple different types of movies at once . \\nthe film tells the story of a low-budget horror movie being filmed at the closed-down crippen high , a school where a group of serial murders took place five years before . \\nbut what the cast and crew don't know is that a real killer , maybe the same one that was never apprehended , is going into action again . \\non one level , \\\" return to horror high \\\" is a slasher movie , and it is at this level that it works the best on . \\nwatching the film , which was made in 1987 , i couldn't help but take notice that the killer's costume was almost identital to that of the ghostface in , \\\" scream , \\\" and \\\" scream 2 . \\\" \\non another level , the film wants to be a slapstick comedy , and there are many hints of this throughout . \\nunfortunately , most of these jokes fall flat . \\nand the last thing the film wants to be is a \\\" behind-the-scenes \\\" look at an exploitation film being made . \\nthe only problem is that , while much of it is supposed to be from the movie itself being made , no cameras are shown filming it , thus making it far more confusing than it had to be . \\nand to top it all off , the \\\" twist \\\" ending makes very little to no sense whatsoever , and so we are basically left with feeling as if we wasted our time . \\nthere are story developments that are beyond ludicrous , and plot holes you could drive a winnebago through . \\nif you see the film , or have seen it , you'll know what i mean . \\nthe premise of \\\" return to horror high , \\\" is admittedly pretty crafty , and i liked the atmosphere of the school , which is where the whole thing takes place . \\nbut director froehlich , judging from this movie , is an incompetent director , except for being able to film the seldom suspeneful scene . \\nwell , come to think of it , there is only one scene that is actually scary , and it has to do with two actors being locked in a room as the killer tries to break in . \\nbut other than that two-minute distraction , \\\" return to horror high , \\\" is certainly no great shake . \\nnote : look for george clooney in a supporting role as one of the actors on the film . \\nand strangely enough , he is the first character to get the ax . . . literally . \\n\",\n          \"these days , people have rather short attention span and hardly anything can satisfy them for the long run . \\n1970s nostalgia is already wearing off , and now , people are becoming more and more interested in 1980s . \\nfew years in the future , early 1990s are going to be regarded as next golden age of nostalgia . \\nhowever , i doubt that people are going to be very nostalgic about the hollywood products of that period . \\none of the reason would surely be films like national lampoon's loaded weapon 1 , that , in many ways , symbolise the biggest problem of contemporary american film industry - lack of originality and ideas . \\nbeing made as some kind of parody on lethal weapon series , this film pairs two l . a . policemen - jack colt ( emilio estevez ) , burn-out alcoholic cop on the edge , and wes luger ( samuel l . jackson ) , by-the-book policeman , days away from retirement . \\ntwo of them , following the murder of luger's ex- partner , must confront evil general mortars ( william shatner ) , crime lord who is going to flood the market with cocaine stashed in wilderness girl cookies . \\nthe authors of this films ( whose director , gene quintano , worked on such projects like third and fourth sequel of police academy ) lacked any original idea before they undertook the projects , and that reflects in the lack plot , characters , and , even original lines . \\nthe plot , or what goes for the plot in this movie , is nothing more than a series of gags that make laugh of some popular films made in previous few years ( apart from lethal weapon series , this film \\\" borrows \\\" its female lead from basic instinct ) . \\nthe best gags , are , same as with many other similar movies , shown in the trailers . \\nthe rest simply doesn't work . \\nonly those who used to watch a lot of hollywood products in that period would laugh . \\nothers would probably wince at the lameness of humour . \\nsome would be entertained by celebrity cameos that pop up every once in a while . \\nbut , at the end , spending hour and half in front of this disorganised mess of a movie is simply not worth the effort . \\nthe film was sometimes criticised for being the parody of a series that already had strong comic overtones . \\nthe authors of lethal weapon returned the favour by using the loaded weapon 1 joke in their fourth sequel . \\n\",\n          \"i'm not quite sure what to say about mars attacks ! , which is obviously the work of a deranged genius . \\nwhen tim burton's twisted alien invasion comedy really works , it's breathtaking and hilarious in equal measure . \\nand when it doesn't work , it's just dull . \\ni'm not even sure it works more often than it doesn't , but where it counts -- that is , when this gleefully evil invading force from the red planet gets down to the business of blasting us to kingdom come -- mars attacks ! \\nis brilliant . \\nmars attacks ! \\nis based on a rather unsavory series of trading cards released by topps in the 1950s , and it takes its cues from the same sources as this summer's independence day -- old alien invasion flicks , disaster movies , and big-budget special effects extravaganzas . \\nbut unlike independence day , which was a painfully middle-of-the-road appeal to the hearts , minds and wallets of america , mars attacks ! \\nhas a fully developed and very personal sense of wonder about it . \\nthe big difference is that while independence day celebrated the resilience of human beings , mars attacks ! \\nportrays us as the greedy and hapless schmucks that we are . \\nthe title sequence is just splendid -- an incredible swarm of flying saucers rises out of the canals of the red planet and then storms earthward through the solar system in formation . \\nthe spinning metal saucers are dead ringers for the invading forces of movies past , and their first appearance on the big screen in combination with danny elfman's thundering , theremin-driven score is absolutely jaw-dropping . \\nit's so overwhelming that , i swear to you , i had trouble breathing . \\nthe movie lays low for the next 40 minutes . \\nwe get a glimpse of the alien leader , resplendent in a purple-sequined cape , when a television message is broadcast to the people of the world -- naturally , the only way to communicate with earthlings is to preempt our regularly scheduled programming . \\nbut mostly , the first act is spent developing characters , setting up mildly comic situations , and drawing a quirky but dishearteningly drab picture of america according to tim burton . \\nit's a good thing that the most compelling personality in the movie belongs to the aliens , because burton's just not interested in making more than caricatures out of his human stars . \\nanyone who comes to mars attacks ! \\nexpecting to see a lot of one favorite actor is bound to be disappointed -- with few exceptions , these characters are dispatched as the film progresses . \\njack nicholson is a lot of fun as the president of the united states but fizzles as a sleazy las vegas hotel developer . rod steiger does an amusing enough take on dr . strangelove's buck turgidson , glenn close brings some star power to the role of the first lady , and martin short is a presidential aide who meets the martians in the white house's \\\" kennedy room , \\\" a secluded nook where he unwittingly tries to seduce an alien dressed up as a big-haired , pointy-breasted sexpot ( lisa marie , the burton flame who played vampira in ed wood ) -- in an earlier scene , it's made clear that the aliens studied human sexuality in the pages of an old issue of playboy . \\nsarah jessica parker hosts her own tv show and michael j . fox is her newsman husband . \\nthe octogenarian sylvia sidney has a funny part as the old woman who cackles , \\\" they blew up congress ! \\\" \\nand plays a decisive role in the defeat of the alien menace . \\njim brown and tom jones are the film's vegas-based heroes , and director barbet schroeder ( reversal of fortune ) has a funny cameo as the unfortunate french president . \\nalso on hand and underutilized are annette bening , pierce brosnan , pam grier , lukas haas and natalie portman ( the latter two also show up in woody allen's everyone says i love you ) . \\nthe real stars , of course , are the computer-generated martians , and they're fantastic . \\nwith bare brains glistening atop their grinning skull-faces , round egg-eyes with red pupils darting this way and that , these animated invaders are malevolence incarnate -- joe dante's gremlins are the closest equivalent in recent memory , but burton's little monsters are more inventive . \\nthe film's raison d'etre are the scenes of crimes against mankind -- the most famous monuments of the world crumble under the alien assault , easter island is turned into a bowling alley , and the nasty little buggers perform hideous medical experiments on captured humans . \\nthe sheer level of mayhem is staggering , especially when the aliens make their first attack , blasting human beings into iridescent skeletons . \\nparents are urged to pay special attention to the pg-13 rating -- it's earned . \\nthe special effects vary from charming to astonishing to deliciously cheesy , and at least a couple of shots of mass destruction seem to have been engineered specifically in response to independence day , although mars attacks ! \\nwas in production long before that film's release . \\ncinematographer peter suschitzky , who makes the most of wynn thomas's wildly imaginative production design ( thomas helped define the spike lee style ) , actually took time off from his mars attacks ! \\nregimen to shoot crash for david cronenberg . \\ncronenberg's movie will almost certainly be more somber -- it won't be released in the u . s . until early next year -- but mars attacks ! \\nis surely a similarly elegant nightmare . \\nthis is not a nice movie . \\n ( and which studio executive was duped into giving burton $70 million to make it ? ) \\nby setting the film's final scenes in the nearly empty , holocaust-ravaged america that independence day conveniently avoided , burton's invasion epic suggests that the world we've got may not be worth saving until many of the people on it are dead . \\nthe victims of his invasion are naive , greedy , or disastrously self-absorbed -- and a good thing , too , since the movie's wicked charm is dependent on our ability to take this invasion partly as a wish-fulfillment fantasy . \\nthe surviving cast members are the innocents and the entertainers , who triumph by determining that the alien invaders -- the ultimate elitists -- are actually susceptible to the kitschiest strains of american pop culture . \\nultimately , this messy masterpiece is the year's funniest comedy and a weird , winking affirmation of the power of the people . \\n\"\n        ],\n        \"semantic_type\": \"\",\n        \"description\": \"\"\n      }\n    },\n    {\n      \"column\": \"Label\",\n      \"properties\": {\n        \"dtype\": \"number\",\n        \"std\": 0,\n        \"min\": 0,\n        \"max\": 1,\n        \"num_unique_values\": 2,\n        \"samples\": [\n          0,\n          1\n        ],\n        \"semantic_type\": \"\",\n        \"description\": \"\"\n      }\n    }\n  ]\n}"
            }
          },
          "metadata": {},
          "execution_count": 68
        }
      ]
    },
    {
      "cell_type": "code",
      "source": [
        "movie_reviews_training['Label'].value_counts()"
      ],
      "metadata": {
        "colab": {
          "base_uri": "https://localhost:8080/",
          "height": 178
        },
        "id": "qdZnYco2POUr",
        "outputId": "39330b56-798c-45be-80b5-1a77199baf89"
      },
      "execution_count": 82,
      "outputs": [
        {
          "output_type": "execute_result",
          "data": {
            "text/plain": [
              "Label\n",
              "1    900\n",
              "0    900\n",
              "Name: count, dtype: int64"
            ],
            "text/html": [
              "<div>\n",
              "<style scoped>\n",
              "    .dataframe tbody tr th:only-of-type {\n",
              "        vertical-align: middle;\n",
              "    }\n",
              "\n",
              "    .dataframe tbody tr th {\n",
              "        vertical-align: top;\n",
              "    }\n",
              "\n",
              "    .dataframe thead th {\n",
              "        text-align: right;\n",
              "    }\n",
              "</style>\n",
              "<table border=\"1\" class=\"dataframe\">\n",
              "  <thead>\n",
              "    <tr style=\"text-align: right;\">\n",
              "      <th></th>\n",
              "      <th>count</th>\n",
              "    </tr>\n",
              "    <tr>\n",
              "      <th>Label</th>\n",
              "      <th></th>\n",
              "    </tr>\n",
              "  </thead>\n",
              "  <tbody>\n",
              "    <tr>\n",
              "      <th>1</th>\n",
              "      <td>900</td>\n",
              "    </tr>\n",
              "    <tr>\n",
              "      <th>0</th>\n",
              "      <td>900</td>\n",
              "    </tr>\n",
              "  </tbody>\n",
              "</table>\n",
              "</div><br><label><b>dtype:</b> int64</label>"
            ]
          },
          "metadata": {},
          "execution_count": 82
        }
      ]
    },
    {
      "cell_type": "markdown",
      "source": [
        "## 2.2 Read and explore the test dataset"
      ],
      "metadata": {
        "id": "TcXriCjvk-jI"
      }
    },
    {
      "cell_type": "code",
      "source": [
        "movie_reviews_testing = pd.read_csv(\"movie_reviews_test.csv\")"
      ],
      "metadata": {
        "id": "8n476Gopmwb1"
      },
      "execution_count": 39,
      "outputs": []
    },
    {
      "cell_type": "code",
      "source": [
        "movie_reviews_testing"
      ],
      "metadata": {
        "id": "WLvAlHkhm5P6",
        "colab": {
          "base_uri": "https://localhost:8080/",
          "height": 423
        },
        "outputId": "9c456468-2af3-48fe-dd74-7902044148e1"
      },
      "execution_count": 69,
      "outputs": [
        {
          "output_type": "execute_result",
          "data": {
            "text/plain": [
              "                                               Content  Label\n",
              "0    hedwig ( john cameron mitchell ) was born a bo...      1\n",
              "1    one of the more unusual and suggestively viole...      1\n",
              "2    what do you get when you combine clueless and ...      1\n",
              "3    >from the man who presented us with henry : th...      1\n",
              "4    tibet has entered the american consciousness s...      1\n",
              "..                                                 ...    ...\n",
              "195  my inner flag was at half-mast last year when ...      0\n",
              "196  if anything , \" stigmata \" should be taken as ...      0\n",
              "197  woof ! too bad that leap of faith was the titl...      0\n",
              "198  the plot of big momma's house is martin lawren...      0\n",
              "199  in the year 2029 , captain leo davidson ( mark...      0\n",
              "\n",
              "[200 rows x 2 columns]"
            ],
            "text/html": [
              "\n",
              "  <div id=\"df-2edb2c50-0a81-4c17-8d6a-3dbd9ffb1863\" class=\"colab-df-container\">\n",
              "    <div>\n",
              "<style scoped>\n",
              "    .dataframe tbody tr th:only-of-type {\n",
              "        vertical-align: middle;\n",
              "    }\n",
              "\n",
              "    .dataframe tbody tr th {\n",
              "        vertical-align: top;\n",
              "    }\n",
              "\n",
              "    .dataframe thead th {\n",
              "        text-align: right;\n",
              "    }\n",
              "</style>\n",
              "<table border=\"1\" class=\"dataframe\">\n",
              "  <thead>\n",
              "    <tr style=\"text-align: right;\">\n",
              "      <th></th>\n",
              "      <th>Content</th>\n",
              "      <th>Label</th>\n",
              "    </tr>\n",
              "  </thead>\n",
              "  <tbody>\n",
              "    <tr>\n",
              "      <th>0</th>\n",
              "      <td>hedwig ( john cameron mitchell ) was born a bo...</td>\n",
              "      <td>1</td>\n",
              "    </tr>\n",
              "    <tr>\n",
              "      <th>1</th>\n",
              "      <td>one of the more unusual and suggestively viole...</td>\n",
              "      <td>1</td>\n",
              "    </tr>\n",
              "    <tr>\n",
              "      <th>2</th>\n",
              "      <td>what do you get when you combine clueless and ...</td>\n",
              "      <td>1</td>\n",
              "    </tr>\n",
              "    <tr>\n",
              "      <th>3</th>\n",
              "      <td>&gt;from the man who presented us with henry : th...</td>\n",
              "      <td>1</td>\n",
              "    </tr>\n",
              "    <tr>\n",
              "      <th>4</th>\n",
              "      <td>tibet has entered the american consciousness s...</td>\n",
              "      <td>1</td>\n",
              "    </tr>\n",
              "    <tr>\n",
              "      <th>...</th>\n",
              "      <td>...</td>\n",
              "      <td>...</td>\n",
              "    </tr>\n",
              "    <tr>\n",
              "      <th>195</th>\n",
              "      <td>my inner flag was at half-mast last year when ...</td>\n",
              "      <td>0</td>\n",
              "    </tr>\n",
              "    <tr>\n",
              "      <th>196</th>\n",
              "      <td>if anything , \" stigmata \" should be taken as ...</td>\n",
              "      <td>0</td>\n",
              "    </tr>\n",
              "    <tr>\n",
              "      <th>197</th>\n",
              "      <td>woof ! too bad that leap of faith was the titl...</td>\n",
              "      <td>0</td>\n",
              "    </tr>\n",
              "    <tr>\n",
              "      <th>198</th>\n",
              "      <td>the plot of big momma's house is martin lawren...</td>\n",
              "      <td>0</td>\n",
              "    </tr>\n",
              "    <tr>\n",
              "      <th>199</th>\n",
              "      <td>in the year 2029 , captain leo davidson ( mark...</td>\n",
              "      <td>0</td>\n",
              "    </tr>\n",
              "  </tbody>\n",
              "</table>\n",
              "<p>200 rows × 2 columns</p>\n",
              "</div>\n",
              "    <div class=\"colab-df-buttons\">\n",
              "\n",
              "  <div class=\"colab-df-container\">\n",
              "    <button class=\"colab-df-convert\" onclick=\"convertToInteractive('df-2edb2c50-0a81-4c17-8d6a-3dbd9ffb1863')\"\n",
              "            title=\"Convert this dataframe to an interactive table.\"\n",
              "            style=\"display:none;\">\n",
              "\n",
              "  <svg xmlns=\"http://www.w3.org/2000/svg\" height=\"24px\" viewBox=\"0 -960 960 960\">\n",
              "    <path d=\"M120-120v-720h720v720H120Zm60-500h600v-160H180v160Zm220 220h160v-160H400v160Zm0 220h160v-160H400v160ZM180-400h160v-160H180v160Zm440 0h160v-160H620v160ZM180-180h160v-160H180v160Zm440 0h160v-160H620v160Z\"/>\n",
              "  </svg>\n",
              "    </button>\n",
              "\n",
              "  <style>\n",
              "    .colab-df-container {\n",
              "      display:flex;\n",
              "      gap: 12px;\n",
              "    }\n",
              "\n",
              "    .colab-df-convert {\n",
              "      background-color: #E8F0FE;\n",
              "      border: none;\n",
              "      border-radius: 50%;\n",
              "      cursor: pointer;\n",
              "      display: none;\n",
              "      fill: #1967D2;\n",
              "      height: 32px;\n",
              "      padding: 0 0 0 0;\n",
              "      width: 32px;\n",
              "    }\n",
              "\n",
              "    .colab-df-convert:hover {\n",
              "      background-color: #E2EBFA;\n",
              "      box-shadow: 0px 1px 2px rgba(60, 64, 67, 0.3), 0px 1px 3px 1px rgba(60, 64, 67, 0.15);\n",
              "      fill: #174EA6;\n",
              "    }\n",
              "\n",
              "    .colab-df-buttons div {\n",
              "      margin-bottom: 4px;\n",
              "    }\n",
              "\n",
              "    [theme=dark] .colab-df-convert {\n",
              "      background-color: #3B4455;\n",
              "      fill: #D2E3FC;\n",
              "    }\n",
              "\n",
              "    [theme=dark] .colab-df-convert:hover {\n",
              "      background-color: #434B5C;\n",
              "      box-shadow: 0px 1px 3px 1px rgba(0, 0, 0, 0.15);\n",
              "      filter: drop-shadow(0px 1px 2px rgba(0, 0, 0, 0.3));\n",
              "      fill: #FFFFFF;\n",
              "    }\n",
              "  </style>\n",
              "\n",
              "    <script>\n",
              "      const buttonEl =\n",
              "        document.querySelector('#df-2edb2c50-0a81-4c17-8d6a-3dbd9ffb1863 button.colab-df-convert');\n",
              "      buttonEl.style.display =\n",
              "        google.colab.kernel.accessAllowed ? 'block' : 'none';\n",
              "\n",
              "      async function convertToInteractive(key) {\n",
              "        const element = document.querySelector('#df-2edb2c50-0a81-4c17-8d6a-3dbd9ffb1863');\n",
              "        const dataTable =\n",
              "          await google.colab.kernel.invokeFunction('convertToInteractive',\n",
              "                                                    [key], {});\n",
              "        if (!dataTable) return;\n",
              "\n",
              "        const docLinkHtml = 'Like what you see? Visit the ' +\n",
              "          '<a target=\"_blank\" href=https://colab.research.google.com/notebooks/data_table.ipynb>data table notebook</a>'\n",
              "          + ' to learn more about interactive tables.';\n",
              "        element.innerHTML = '';\n",
              "        dataTable['output_type'] = 'display_data';\n",
              "        await google.colab.output.renderOutput(dataTable, element);\n",
              "        const docLink = document.createElement('div');\n",
              "        docLink.innerHTML = docLinkHtml;\n",
              "        element.appendChild(docLink);\n",
              "      }\n",
              "    </script>\n",
              "  </div>\n",
              "\n",
              "\n",
              "<div id=\"df-6437ed93-e894-4bc1-b359-3f40840e5524\">\n",
              "  <button class=\"colab-df-quickchart\" onclick=\"quickchart('df-6437ed93-e894-4bc1-b359-3f40840e5524')\"\n",
              "            title=\"Suggest charts\"\n",
              "            style=\"display:none;\">\n",
              "\n",
              "<svg xmlns=\"http://www.w3.org/2000/svg\" height=\"24px\"viewBox=\"0 0 24 24\"\n",
              "     width=\"24px\">\n",
              "    <g>\n",
              "        <path d=\"M19 3H5c-1.1 0-2 .9-2 2v14c0 1.1.9 2 2 2h14c1.1 0 2-.9 2-2V5c0-1.1-.9-2-2-2zM9 17H7v-7h2v7zm4 0h-2V7h2v10zm4 0h-2v-4h2v4z\"/>\n",
              "    </g>\n",
              "</svg>\n",
              "  </button>\n",
              "\n",
              "<style>\n",
              "  .colab-df-quickchart {\n",
              "      --bg-color: #E8F0FE;\n",
              "      --fill-color: #1967D2;\n",
              "      --hover-bg-color: #E2EBFA;\n",
              "      --hover-fill-color: #174EA6;\n",
              "      --disabled-fill-color: #AAA;\n",
              "      --disabled-bg-color: #DDD;\n",
              "  }\n",
              "\n",
              "  [theme=dark] .colab-df-quickchart {\n",
              "      --bg-color: #3B4455;\n",
              "      --fill-color: #D2E3FC;\n",
              "      --hover-bg-color: #434B5C;\n",
              "      --hover-fill-color: #FFFFFF;\n",
              "      --disabled-bg-color: #3B4455;\n",
              "      --disabled-fill-color: #666;\n",
              "  }\n",
              "\n",
              "  .colab-df-quickchart {\n",
              "    background-color: var(--bg-color);\n",
              "    border: none;\n",
              "    border-radius: 50%;\n",
              "    cursor: pointer;\n",
              "    display: none;\n",
              "    fill: var(--fill-color);\n",
              "    height: 32px;\n",
              "    padding: 0;\n",
              "    width: 32px;\n",
              "  }\n",
              "\n",
              "  .colab-df-quickchart:hover {\n",
              "    background-color: var(--hover-bg-color);\n",
              "    box-shadow: 0 1px 2px rgba(60, 64, 67, 0.3), 0 1px 3px 1px rgba(60, 64, 67, 0.15);\n",
              "    fill: var(--button-hover-fill-color);\n",
              "  }\n",
              "\n",
              "  .colab-df-quickchart-complete:disabled,\n",
              "  .colab-df-quickchart-complete:disabled:hover {\n",
              "    background-color: var(--disabled-bg-color);\n",
              "    fill: var(--disabled-fill-color);\n",
              "    box-shadow: none;\n",
              "  }\n",
              "\n",
              "  .colab-df-spinner {\n",
              "    border: 2px solid var(--fill-color);\n",
              "    border-color: transparent;\n",
              "    border-bottom-color: var(--fill-color);\n",
              "    animation:\n",
              "      spin 1s steps(1) infinite;\n",
              "  }\n",
              "\n",
              "  @keyframes spin {\n",
              "    0% {\n",
              "      border-color: transparent;\n",
              "      border-bottom-color: var(--fill-color);\n",
              "      border-left-color: var(--fill-color);\n",
              "    }\n",
              "    20% {\n",
              "      border-color: transparent;\n",
              "      border-left-color: var(--fill-color);\n",
              "      border-top-color: var(--fill-color);\n",
              "    }\n",
              "    30% {\n",
              "      border-color: transparent;\n",
              "      border-left-color: var(--fill-color);\n",
              "      border-top-color: var(--fill-color);\n",
              "      border-right-color: var(--fill-color);\n",
              "    }\n",
              "    40% {\n",
              "      border-color: transparent;\n",
              "      border-right-color: var(--fill-color);\n",
              "      border-top-color: var(--fill-color);\n",
              "    }\n",
              "    60% {\n",
              "      border-color: transparent;\n",
              "      border-right-color: var(--fill-color);\n",
              "    }\n",
              "    80% {\n",
              "      border-color: transparent;\n",
              "      border-right-color: var(--fill-color);\n",
              "      border-bottom-color: var(--fill-color);\n",
              "    }\n",
              "    90% {\n",
              "      border-color: transparent;\n",
              "      border-bottom-color: var(--fill-color);\n",
              "    }\n",
              "  }\n",
              "</style>\n",
              "\n",
              "  <script>\n",
              "    async function quickchart(key) {\n",
              "      const quickchartButtonEl =\n",
              "        document.querySelector('#' + key + ' button');\n",
              "      quickchartButtonEl.disabled = true;  // To prevent multiple clicks.\n",
              "      quickchartButtonEl.classList.add('colab-df-spinner');\n",
              "      try {\n",
              "        const charts = await google.colab.kernel.invokeFunction(\n",
              "            'suggestCharts', [key], {});\n",
              "      } catch (error) {\n",
              "        console.error('Error during call to suggestCharts:', error);\n",
              "      }\n",
              "      quickchartButtonEl.classList.remove('colab-df-spinner');\n",
              "      quickchartButtonEl.classList.add('colab-df-quickchart-complete');\n",
              "    }\n",
              "    (() => {\n",
              "      let quickchartButtonEl =\n",
              "        document.querySelector('#df-6437ed93-e894-4bc1-b359-3f40840e5524 button');\n",
              "      quickchartButtonEl.style.display =\n",
              "        google.colab.kernel.accessAllowed ? 'block' : 'none';\n",
              "    })();\n",
              "  </script>\n",
              "</div>\n",
              "\n",
              "  <div id=\"id_c9f8dfb5-d059-40d5-bbcd-c9ae8e16cbcf\">\n",
              "    <style>\n",
              "      .colab-df-generate {\n",
              "        background-color: #E8F0FE;\n",
              "        border: none;\n",
              "        border-radius: 50%;\n",
              "        cursor: pointer;\n",
              "        display: none;\n",
              "        fill: #1967D2;\n",
              "        height: 32px;\n",
              "        padding: 0 0 0 0;\n",
              "        width: 32px;\n",
              "      }\n",
              "\n",
              "      .colab-df-generate:hover {\n",
              "        background-color: #E2EBFA;\n",
              "        box-shadow: 0px 1px 2px rgba(60, 64, 67, 0.3), 0px 1px 3px 1px rgba(60, 64, 67, 0.15);\n",
              "        fill: #174EA6;\n",
              "      }\n",
              "\n",
              "      [theme=dark] .colab-df-generate {\n",
              "        background-color: #3B4455;\n",
              "        fill: #D2E3FC;\n",
              "      }\n",
              "\n",
              "      [theme=dark] .colab-df-generate:hover {\n",
              "        background-color: #434B5C;\n",
              "        box-shadow: 0px 1px 3px 1px rgba(0, 0, 0, 0.15);\n",
              "        filter: drop-shadow(0px 1px 2px rgba(0, 0, 0, 0.3));\n",
              "        fill: #FFFFFF;\n",
              "      }\n",
              "    </style>\n",
              "    <button class=\"colab-df-generate\" onclick=\"generateWithVariable('movie_reviews_testing')\"\n",
              "            title=\"Generate code using this dataframe.\"\n",
              "            style=\"display:none;\">\n",
              "\n",
              "  <svg xmlns=\"http://www.w3.org/2000/svg\" height=\"24px\"viewBox=\"0 0 24 24\"\n",
              "       width=\"24px\">\n",
              "    <path d=\"M7,19H8.4L18.45,9,17,7.55,7,17.6ZM5,21V16.75L18.45,3.32a2,2,0,0,1,2.83,0l1.4,1.43a1.91,1.91,0,0,1,.58,1.4,1.91,1.91,0,0,1-.58,1.4L9.25,21ZM18.45,9,17,7.55Zm-12,3A5.31,5.31,0,0,0,4.9,8.1,5.31,5.31,0,0,0,1,6.5,5.31,5.31,0,0,0,4.9,4.9,5.31,5.31,0,0,0,6.5,1,5.31,5.31,0,0,0,8.1,4.9,5.31,5.31,0,0,0,12,6.5,5.46,5.46,0,0,0,6.5,12Z\"/>\n",
              "  </svg>\n",
              "    </button>\n",
              "    <script>\n",
              "      (() => {\n",
              "      const buttonEl =\n",
              "        document.querySelector('#id_c9f8dfb5-d059-40d5-bbcd-c9ae8e16cbcf button.colab-df-generate');\n",
              "      buttonEl.style.display =\n",
              "        google.colab.kernel.accessAllowed ? 'block' : 'none';\n",
              "\n",
              "      buttonEl.onclick = () => {\n",
              "        google.colab.notebook.generateWithVariable('movie_reviews_testing');\n",
              "      }\n",
              "      })();\n",
              "    </script>\n",
              "  </div>\n",
              "\n",
              "    </div>\n",
              "  </div>\n"
            ],
            "application/vnd.google.colaboratory.intrinsic+json": {
              "type": "dataframe",
              "variable_name": "movie_reviews_testing",
              "summary": "{\n  \"name\": \"movie_reviews_testing\",\n  \"rows\": 200,\n  \"fields\": [\n    {\n      \"column\": \"Content\",\n      \"properties\": {\n        \"dtype\": \"string\",\n        \"num_unique_values\": 200,\n        \"samples\": [\n          \"there are some works of art that are almost impossible to review , not because of their own complexity , but because of their legendary status which prevents the reviewer to say anything original . \\none of such masterpieces is casablanca , probably not the best film in the history of the seventh art , but definitely the most popular one . \\nits popularity can be measured not in a multitude of more or less disguised remakes that were made in more than half a century since its premiere , but also in countless tributes and references that movie makers use in their works to this day . \\ncasablanca is also a movie that has the very rare virtue of both being praised by the critics and loved by general audience . \\none of the things that makes this film even more unique was the fact that it was doomed to fail , at least judging by conventional movie-making wisdom of its time . \\nit was based on a broadway play so mediocre that it hadn't been produced on stage ; screenplay by three writers - julius g . epstein , philip j . epstein and howard koch - was beeing written as shooting went along ; the main actors were producers' second choice , and , finally , man behind camera , michael curtiz was considered to be capable , but not great director . \\nhowever , the movie was commercially successful and earned three \\\" oscars \\\" , including the one for the best film . \\nuntil this very day , it is considered to be the best example of hollywood film- making in its own golden age . \\nthe plot of the movie was heavily influenced by the needs of ww2 propaganda , yet it also used rather complicated and now almost forgotten political circumstances of that global conflict in order to make intriguing story . \\nin december 1941 , casablanca , exotic port on the atlantic coast of north africa is controlled by officially neutral , yet nazi-collaborating french vichy government . \\nthousands of refugees from war-torn europe are stuck there on the way to lisbon and safety of america , and ready to pay any price for precious exit visas . \\nmany shady characters thrive on their misery , including the corrupt police chief , captain renault ( rains ) . \\nhis best friend is rick blaine ( bogart ) , who used to be idealistic anti-fascist , and now owns popular night club in casablanca and lives by his own cynical philosophy of \\\" sticking his neck for nobody \\\" . \\nhowever , everything changes when he gets in possession of two precious extra visas . \\nthis event coincides with the arrival of two new refugees to casablanca . \\none of them is victor laszlo ( henreid ) , czech resistance leader who escaped three times from nazi concentration camps and became the legend of enslaved europe . \\nhe is accompanied by his beautiful wife ilsa lund ( bergman ) , with whom rick had a stormy affair in the eve of nazi occupation of paris . \\nthe couple needs visas , especially because of the gestapo major strasser ( veidt ) being on their trail . \\nrick is now forced to choose between love , wounded pride , self-preserving interest and his own hatred of fascism . \\nthe casting for this movie seems influenced by divine inspiration - humphrey bogart , most legendary actor in the history of cinema , is one of the rare character actors who elevated his persona to the star status . \\nbogart's portrayal of rick as complicated man , torn between idealistic past and bitter present , was so perfect , that his icon would forever be connected with that character . \\nanother icon in his company is ingrid bergman , great actress of old hollywood , here in her artistic and visual prime . \\nthe cinematic coupling of bogart and bergman became one of the main symbols of that era of filmmaking - some happier times when the romance on the screen didn't look childish nor trite like in some more contemporary works . \\nfor many people , casablanca is probably the best romantic film ever made . \\nbut the reason for that isn't the romance itself - it's the realistic story of people forced to make tough , and often wrong choices in their life . \\nthe casting of casablanca was right on target not just in a case of main leads . \\nthe supporting actors also did a marvellous job . \\nsidney longstreet and peter lorre were here mainly to give a mystic flavour spotted in a previous bogart classic - john huston's maltese falcon ; yet both of them managed to portray colourful and original characters . \\nanother shining example of good casting is now almost forgotten paul henreid as the weakest part of love triangle ; character of victor laszlo has believable charisma and looks like a somebody who could inspire millions of people to rise against nazi tiranny . \\nunfortunately , the charisma that burdened laszlo , leaves little place for difficult choice , making his character forever overshadowed by rick/ilsa coupling . \\nhowever , rick and ilsa actually have a serious competiton for most memorable character in casablanca . \\ncaptain renault , brilliantly portrayed by claude rains in a role of a lifetime , was embodiment of perfect , almost unmatched balance between ethical corruption and physical charm . \\ndespite being the undoubtful villain in almost entire movie , rains managed to make renault sympathetic character , and his final conversion to the side of good , symbolized in not so subtle gesture at the end of movie looked unnecessary . \\nrains also gave another dimension to the movie , making it even more ambiguous ; people who like to analyse movies to death discovered signs of homosexuality in renault's relationship towards rick , and rick's final words leave room for even more outrageous speculations . \\ntogether with well-drawn characters and exciting story , the movie was good in creating his own atmosphere . \\nprofessional nitpickers would probably have a field day in discovering numerous historical and geographical inaccuracies , but casablanca is still a shining example of hollywood ww2 movie that is beliavable , if not realistic . \\nany way , even if we don't see it as a historical document , casablanca is movie that can be source of entertainment as well as infinite inspiration . \\n\",\n          \"gere , willis , poitier chase each other around the world \\nthe jackal a film review by michael redman copyright 1997 by michael redman \\nwhen the soviet union imploded , the western countries lost their shadow . \\nwith the united states friendly with the russians , we no longer had an entity to blame for the world's problems . \\nthis showed up in hollywood films as the communist government was no longer the easy bad guy . \\nit's time to rejoice because we've found our new villain . \\nnow it's no longer the russian government who sends killers out into foreign lands , it's the russian _mafia_ . \\na perfect solution , it combines the dread of organized crime and the still-present uneasiness with the former eastern block countries . \\nbest of all , the villains are still foreigners : fear of the other always plays best . \\nso it is a crime lord in moscow that sends legendary hitman the jackal ( bruce willis ) to assassinate a highly placed us government figure in retaliation for the death of his brother during a nightclub raid . \\nthe fbi is at a loss as to how to protect the target from someone they're not sure even exists . \\ncoming to their rescue is former ira operative declan mulqueen ( richard gere ) who is temporarily released from prison to assist fbi agent carter preston ( sidney poitier ) and russian major valentina koslova ( diane venora ) . \\nmulqueen's ex-girlfriend basque terrorist isabella ( mathilda may ) is the only person who has seen the elusive jackal . \\n ( presumably there is an exclusive international terrorist club somewhere where the three met . ) \\nthe film follows two parallel tracks as the jackal prepares for his $70 million hit and mulqueen attempts to locate him while preston makes sure that the irishman doesn't slip away . \\ncrossing numerous borders and donning various disguises for both himself and his mini-van , the killer is always one step ahead of his pursuers . \\nbeing very loosely based on the same book the 1973 thriller \\\" the day of the jackal \\\" , comparison between the two films is inevitable . \\nthere is no doubt that the original is the better movie , playing the story for suspense rather than the current action/adventure . \\nas a mystery , \\\" the jackal \\\" has enough holes in it to ruin the tale , but if you can accept it for what it is , there's entertainment to be had . \\nholes ? let's see ? a pivotal clue for mulqueen is so obscure that he must possess psychic powers to pick it up . \\nfor a 20-year veteran that can command the big bucks , the jackal is an incredibly poor shot . \\nthe final scene between gere and willis occurs in a location that should be mobbed with police , but it's just the two of them . \\nwillis' disguises usually look like bruce willis and are just as interesting as val kilmer's in \\\" the saint \\\" . \\n ( and lest you misunderstand , that's not a compliment . ) \\nbut the three stars are fun to watch . \\nit's good to see gere in something other than a business suit . \\nwillis has a mixed history in picking projects , but his characters are always watchable . \\npoitier is by far the superior actor , but has limited screen time . \\nthe problems in logic are flaws , but don't ruin the experience . \\noccasionally there are movies that transcend their blemishes . \\nthis is one of them . \\n[the appeared in the 11/20/97 \\\" bloomington voice \\\" , bloomington , indiana] \\n\",\n          \"the premise is simple , if not bizarre . \\na mad scientist ( trace beaulieu as dr . clayton forrester ) launches an average-joe ( michael j . nelson as mike nelson ) into space where he forces his subject to watch the most horrendous movies ever made . \\nwhy ? \\nit's torturous , it's maniacal , and it's just plain fun . \\nbased on the cult-favorite cable television series , mystery science theater 3000 : the movie isn't torturous , but as for being maniacal and just plain fun , it foots the bill quite nicely . \\nmike nelson , on a dog-bone shaped spacecraft , spends his days as any young man would dream - indulging in sarcasm and horseplay , and seeing quite a few movies . \\nthe catch is , these movies aren't the movies he chooses , but retched examples of film-making chosen specifically by dr . forrester in an attempt to break mike's will to live . \\ndr . forrester is convinced that one too many b- movies is all it will take to ruin a man , but with a couple of wise-cracking puppet buddies ( tom servo , voiced by kevin murphy , and crow t . robot , voiced by beaulieu ) , the torture becomes somewhat of a honorary party for all that is wrong in the world of cheezy cinema . \\nthe purpose behind mst3k is to exploit some of the worst films known ( even if by very few of us ) to man . \\nwe watch as the silhouettes of mike , tom , and crow sit in a darkened theater poking fun at the movie going on before them . \\nin this case , it's the 1954 sci-fi film this island earth . \\nwe basically watch as our three leads watch , only we get the pleasure of eavesdropping on their hilarious commentary . \\nthe plots behind the movies ripped apart are really quite irrelevant , but for the sake of those who might want to know , i'll explain this one . \\nthis island earth is the tale of two scientists , a man and a woman , who wind up aboard a spaceship whose crew intends to destroy the earth . \\ntogether the two fight to survive as well as save their home planet . \\nto make mst3k work , the film-within-the-film naturally has to be as horrible as possible , and although the tv-series introduced us to several worse films than this island earth , it's a bad enough flick to bring about some hysterical cruelty . \\nmst3k , which doesn't actually contain the complete this island earth , is a short 73 minutes , but this is a step very wisely taken . \\nas funny as some of their observations are , it can only go so long . \\noccasional breaks from this island earth also help the film tremendously . \\nalthough it takes a second to get back into the right mode after this premise has been left for a moment , it's better than overkilling the whole concept post haste . \\nmst3k lovers will likely hail the film greatly , but if you don't know what you're in for , it could be a jarring disappointment . \\nalthough i thought the sharp wit of this film was worth three stars , it is a movie to be seen on home video , late at night when your brain is not functioning to full capacity anyway , and with a large , saracastic crowd - new year's at midnight for example , which is when i saw it . \\nwarning : although mst3k has more to its end credits than most ( the three leads use the credits to poke some more fun ) , they are actually more annoying than most . \\nthe name slandering and asinine one-liners were extremely unfunny , and after laughing for about 70 minutes straight , it put a heavy damper on the overall experience . \\nmost people will likely stay to see what the smart-alec's have to say , but for me , it almost ruined an otherwise good film . \\n\"\n        ],\n        \"semantic_type\": \"\",\n        \"description\": \"\"\n      }\n    },\n    {\n      \"column\": \"Label\",\n      \"properties\": {\n        \"dtype\": \"number\",\n        \"std\": 0,\n        \"min\": 0,\n        \"max\": 1,\n        \"num_unique_values\": 2,\n        \"samples\": [\n          0,\n          1\n        ],\n        \"semantic_type\": \"\",\n        \"description\": \"\"\n      }\n    }\n  ]\n}"
            }
          },
          "metadata": {},
          "execution_count": 69
        }
      ]
    },
    {
      "cell_type": "markdown",
      "source": [
        "# **3. Preprocessing-Feature Extraction**"
      ],
      "metadata": {
        "id": "LFT9hV-WnXla"
      }
    },
    {
      "cell_type": "code",
      "source": [
        "extractor = TfidfVectorizer(min_df = 5,\n",
        "                             max_df = 0.8,\n",
        "                             sublinear_tf = True,\n",
        "                             use_idf = True)"
      ],
      "metadata": {
        "id": "ovP0gpcfncuJ"
      },
      "execution_count": 70,
      "outputs": []
    },
    {
      "cell_type": "code",
      "source": [
        "train_features = extractor.fit_transform(movie_reviews_training[\"Content\"])"
      ],
      "metadata": {
        "id": "x6ApuepXttMm"
      },
      "execution_count": 71,
      "outputs": []
    },
    {
      "cell_type": "code",
      "source": [
        "test_features = extractor.transform (movie_reviews_testing[\"Content\"])"
      ],
      "metadata": {
        "id": "maxzi5f0uci6"
      },
      "execution_count": 72,
      "outputs": []
    },
    {
      "cell_type": "code",
      "source": [
        "train_features.shape"
      ],
      "metadata": {
        "colab": {
          "base_uri": "https://localhost:8080/"
        },
        "id": "shqWTAe0ugky",
        "outputId": "60124bda-ec0a-4fbf-8008-3c132cab67bd"
      },
      "execution_count": 73,
      "outputs": [
        {
          "output_type": "execute_result",
          "data": {
            "text/plain": [
              "(1800, 12495)"
            ]
          },
          "metadata": {},
          "execution_count": 73
        }
      ]
    },
    {
      "cell_type": "code",
      "source": [
        "test_features.shape"
      ],
      "metadata": {
        "colab": {
          "base_uri": "https://localhost:8080/"
        },
        "id": "QnnqC5GJusmZ",
        "outputId": "0dda6c5a-b630-44e3-e7c7-6ac4a92337db"
      },
      "execution_count": 74,
      "outputs": [
        {
          "output_type": "execute_result",
          "data": {
            "text/plain": [
              "(200, 12495)"
            ]
          },
          "metadata": {},
          "execution_count": 74
        }
      ]
    },
    {
      "cell_type": "markdown",
      "source": [
        "# **4. Create SVM model**"
      ],
      "metadata": {
        "id": "RUx7p4k4LfrU"
      }
    },
    {
      "cell_type": "markdown",
      "source": [
        "## 4.1 Construct the model"
      ],
      "metadata": {
        "id": "p29Tsis5vRx9"
      }
    },
    {
      "cell_type": "code",
      "source": [
        "svm_model = svm.SVC(kernel='linear')"
      ],
      "metadata": {
        "id": "uvjnSTBlvWTO"
      },
      "execution_count": 47,
      "outputs": []
    },
    {
      "cell_type": "markdown",
      "source": [
        "## 4.2 Train the model"
      ],
      "metadata": {
        "id": "lm7wADGGvc-H"
      }
    },
    {
      "cell_type": "code",
      "source": [
        "svm_model.fit(train_features, movie_reviews_training[\"Label\"])\n",
        "print(\"Done!\")"
      ],
      "metadata": {
        "colab": {
          "base_uri": "https://localhost:8080/"
        },
        "id": "jlgDlVAHvpc2",
        "outputId": "c8809ee1-9d0d-4fbc-be05-ac02b9fa5a9c"
      },
      "execution_count": 48,
      "outputs": [
        {
          "output_type": "stream",
          "name": "stdout",
          "text": [
            "Done!\n"
          ]
        }
      ]
    },
    {
      "cell_type": "markdown",
      "source": [
        "## 4.3 Model Prediction"
      ],
      "metadata": {
        "id": "aH5fXeV4MNc4"
      }
    },
    {
      "cell_type": "code",
      "source": [
        "predictions = svm_model.predict(test_features)"
      ],
      "metadata": {
        "id": "DRT9LryBvwUt"
      },
      "execution_count": 49,
      "outputs": []
    },
    {
      "cell_type": "markdown",
      "source": [
        "##4.4 Model Evaluation"
      ],
      "metadata": {
        "id": "E1Mpoo7Gv9is"
      }
    },
    {
      "cell_type": "code",
      "source": [
        "target_names = ['Negative', 'Positive']"
      ],
      "metadata": {
        "id": "TyNBqDqMwA-i"
      },
      "execution_count": 50,
      "outputs": []
    },
    {
      "cell_type": "code",
      "source": [
        "summary = classification_report(movie_reviews_testing['Label'], predictions, target_names=target_names)"
      ],
      "metadata": {
        "id": "sqS_qxuzwHLD"
      },
      "execution_count": 51,
      "outputs": []
    },
    {
      "cell_type": "code",
      "source": [
        "print(summary)"
      ],
      "metadata": {
        "colab": {
          "base_uri": "https://localhost:8080/"
        },
        "id": "t6FYIEp5wJPj",
        "outputId": "cc0e6edc-ed71-4d42-f38f-e1a72416d3f2"
      },
      "execution_count": 52,
      "outputs": [
        {
          "output_type": "stream",
          "name": "stdout",
          "text": [
            "              precision    recall  f1-score   support\n",
            "\n",
            "    Negative       0.91      0.92      0.92       100\n",
            "    Positive       0.92      0.91      0.91       100\n",
            "\n",
            "    accuracy                           0.92       200\n",
            "   macro avg       0.92      0.92      0.91       200\n",
            "weighted avg       0.92      0.92      0.91       200\n",
            "\n"
          ]
        }
      ]
    },
    {
      "cell_type": "markdown",
      "source": [
        "Use SVM model to classify the following review:\n"
      ],
      "metadata": {
        "id": "Nenc-kjKwZFg"
      }
    },
    {
      "cell_type": "code",
      "source": [
        "my_review = \"I hate this product. It is not working at all. It is so bad and is not suitable for my problem.\""
      ],
      "metadata": {
        "id": "t5KKf4aIxjPr"
      },
      "execution_count": 53,
      "outputs": []
    },
    {
      "cell_type": "markdown",
      "source": [
        "1. Feature Extraction:"
      ],
      "metadata": {
        "id": "vHMZ2f0ixTPk"
      }
    },
    {
      "cell_type": "code",
      "source": [
        "my_review_features = extractor.transform([my_review])"
      ],
      "metadata": {
        "id": "NYP_noPgxZak"
      },
      "execution_count": 75,
      "outputs": []
    },
    {
      "cell_type": "markdown",
      "source": [
        "2. Prediction use SVM"
      ],
      "metadata": {
        "id": "dx0eG8qoxpKb"
      }
    },
    {
      "cell_type": "code",
      "source": [
        "print(svm_model.predict(my_review_features))"
      ],
      "metadata": {
        "id": "fyUbKybuxuv7",
        "colab": {
          "base_uri": "https://localhost:8080/"
        },
        "outputId": "7430d802-dba6-4435-e448-d266c022e5a0"
      },
      "execution_count": 76,
      "outputs": [
        {
          "output_type": "stream",
          "name": "stdout",
          "text": [
            "['pos']\n"
          ]
        }
      ]
    },
    {
      "cell_type": "markdown",
      "source": [
        "text Use SVM model to classify the following review:\n"
      ],
      "metadata": {
        "id": "zwoFZL3Mx3Cg"
      }
    },
    {
      "cell_type": "code",
      "source": [
        "my_review = \"I love this product. It is very effective in solving my problem!\""
      ],
      "metadata": {
        "id": "2Z0IJZXsx7Fr"
      },
      "execution_count": 56,
      "outputs": []
    },
    {
      "cell_type": "markdown",
      "source": [
        "1. Feature Extraction:"
      ],
      "metadata": {
        "id": "9m8nQ462x_Li"
      }
    },
    {
      "cell_type": "code",
      "source": [
        "my_review_features = extractor.transform([my_review])"
      ],
      "metadata": {
        "id": "_J4gc_Rqx_3x"
      },
      "execution_count": 77,
      "outputs": []
    },
    {
      "cell_type": "markdown",
      "source": [
        "2. Prediction use SVM"
      ],
      "metadata": {
        "id": "oStYhmeXyE9j"
      }
    },
    {
      "cell_type": "code",
      "source": [
        "print(svm_model.predict(my_review_features))"
      ],
      "metadata": {
        "colab": {
          "base_uri": "https://localhost:8080/"
        },
        "id": "Wbo7SdUtyFlR",
        "outputId": "0308c47b-a547-4722-8752-b7d0295c56a8"
      },
      "execution_count": 78,
      "outputs": [
        {
          "output_type": "stream",
          "name": "stdout",
          "text": [
            "['pos']\n"
          ]
        }
      ]
    },
    {
      "cell_type": "markdown",
      "source": [
        "# **5. Create Ridge model**"
      ],
      "metadata": {
        "id": "OipNLC-UQX8t"
      }
    },
    {
      "cell_type": "code",
      "source": [
        "from sklearn.linear_model import RidgeClassifier\n",
        "\n",
        "ridge_model = RidgeClassifier()\n",
        "ridge_model.fit(train_features, movie_reviews_training[\"Label\"])\n",
        "\n",
        "ridge_predictions = ridge_model.predict(test_features)"
      ],
      "metadata": {
        "id": "3UqxjdNPQdcp"
      },
      "execution_count": 181,
      "outputs": []
    },
    {
      "cell_type": "code",
      "source": [
        "ridge_summary = classification_report(movie_reviews_testing['Label'], ridge_predictions, target_names=target_names)\n",
        "print(ridge_summary)"
      ],
      "metadata": {
        "id": "WfbjcJRmQt7a"
      },
      "execution_count": null,
      "outputs": []
    },
    {
      "cell_type": "code",
      "source": [
        "my_review = \"I hate this product. It is not working at all. It is so bad and is not suitable for my problem.\"\n",
        "my_review_features = extractor.transform([my_review])\n",
        "print(ridge_model.predict(my_review_features))"
      ],
      "metadata": {
        "id": "Wj3OqEP6Q0aQ"
      },
      "execution_count": null,
      "outputs": []
    },
    {
      "cell_type": "code",
      "source": [
        "my_review = \"I love this product. It is very effective in solving my problem!\"\n",
        "my_review_features = extractor.transform([my_review])\n",
        "print(ridge_model.predict(my_review_features))"
      ],
      "metadata": {
        "id": "EeuPUsfbQ19W"
      },
      "execution_count": null,
      "outputs": []
    }
  ]
}