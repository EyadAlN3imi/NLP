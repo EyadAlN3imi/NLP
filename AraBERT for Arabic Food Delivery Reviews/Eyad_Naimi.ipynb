{
  "nbformat": 4,
  "nbformat_minor": 0,
  "metadata": {
    "colab": {
      "provenance": [],
      "gpuType": "T4"
    },
    "kernelspec": {
      "name": "python3",
      "display_name": "Python 3"
    },
    "language_info": {
      "name": "python"
    },
    "accelerator": "GPU",
    "widgets": {
      "application/vnd.jupyter.widget-state+json": {
        "55a23f5d44d041eba6dd3d662e28a71c": {
          "model_module": "@jupyter-widgets/controls",
          "model_name": "HBoxModel",
          "model_module_version": "1.5.0",
          "state": {
            "_dom_classes": [],
            "_model_module": "@jupyter-widgets/controls",
            "_model_module_version": "1.5.0",
            "_model_name": "HBoxModel",
            "_view_count": null,
            "_view_module": "@jupyter-widgets/controls",
            "_view_module_version": "1.5.0",
            "_view_name": "HBoxView",
            "box_style": "",
            "children": [
              "IPY_MODEL_9fcba6ed964642a1a5d9d17ebcabc7a6",
              "IPY_MODEL_810f4fd71c3d46ee8f9f50bf0d7fcfd3",
              "IPY_MODEL_afcc2a3ef2644537b21dee0f56766794"
            ],
            "layout": "IPY_MODEL_a65ffff1681d4969a5b2fa6ce42ac934"
          }
        },
        "9fcba6ed964642a1a5d9d17ebcabc7a6": {
          "model_module": "@jupyter-widgets/controls",
          "model_name": "HTMLModel",
          "model_module_version": "1.5.0",
          "state": {
            "_dom_classes": [],
            "_model_module": "@jupyter-widgets/controls",
            "_model_module_version": "1.5.0",
            "_model_name": "HTMLModel",
            "_view_count": null,
            "_view_module": "@jupyter-widgets/controls",
            "_view_module_version": "1.5.0",
            "_view_name": "HTMLView",
            "description": "",
            "description_tooltip": null,
            "layout": "IPY_MODEL_ed333bc5a3174624a72c7bd03d706e4a",
            "placeholder": "​",
            "style": "IPY_MODEL_9b7f8a35031c4a17ad5caa624dd716b5",
            "value": "Map: 100%"
          }
        },
        "810f4fd71c3d46ee8f9f50bf0d7fcfd3": {
          "model_module": "@jupyter-widgets/controls",
          "model_name": "FloatProgressModel",
          "model_module_version": "1.5.0",
          "state": {
            "_dom_classes": [],
            "_model_module": "@jupyter-widgets/controls",
            "_model_module_version": "1.5.0",
            "_model_name": "FloatProgressModel",
            "_view_count": null,
            "_view_module": "@jupyter-widgets/controls",
            "_view_module_version": "1.5.0",
            "_view_name": "ProgressView",
            "bar_style": "success",
            "description": "",
            "description_tooltip": null,
            "layout": "IPY_MODEL_42f8fc09775b4685a8b9e99d27a14164",
            "max": 4361,
            "min": 0,
            "orientation": "horizontal",
            "style": "IPY_MODEL_8041bc191615436281f48f6d412b5474",
            "value": 4361
          }
        },
        "afcc2a3ef2644537b21dee0f56766794": {
          "model_module": "@jupyter-widgets/controls",
          "model_name": "HTMLModel",
          "model_module_version": "1.5.0",
          "state": {
            "_dom_classes": [],
            "_model_module": "@jupyter-widgets/controls",
            "_model_module_version": "1.5.0",
            "_model_name": "HTMLModel",
            "_view_count": null,
            "_view_module": "@jupyter-widgets/controls",
            "_view_module_version": "1.5.0",
            "_view_name": "HTMLView",
            "description": "",
            "description_tooltip": null,
            "layout": "IPY_MODEL_d182a2a7463d4f58b3c65ba7e7d7f0ee",
            "placeholder": "​",
            "style": "IPY_MODEL_cd5a91e54f194326b2f69ba87da1684d",
            "value": " 4361/4361 [00:06&lt;00:00, 734.30 examples/s]"
          }
        },
        "a65ffff1681d4969a5b2fa6ce42ac934": {
          "model_module": "@jupyter-widgets/base",
          "model_name": "LayoutModel",
          "model_module_version": "1.2.0",
          "state": {
            "_model_module": "@jupyter-widgets/base",
            "_model_module_version": "1.2.0",
            "_model_name": "LayoutModel",
            "_view_count": null,
            "_view_module": "@jupyter-widgets/base",
            "_view_module_version": "1.2.0",
            "_view_name": "LayoutView",
            "align_content": null,
            "align_items": null,
            "align_self": null,
            "border": null,
            "bottom": null,
            "display": null,
            "flex": null,
            "flex_flow": null,
            "grid_area": null,
            "grid_auto_columns": null,
            "grid_auto_flow": null,
            "grid_auto_rows": null,
            "grid_column": null,
            "grid_gap": null,
            "grid_row": null,
            "grid_template_areas": null,
            "grid_template_columns": null,
            "grid_template_rows": null,
            "height": null,
            "justify_content": null,
            "justify_items": null,
            "left": null,
            "margin": null,
            "max_height": null,
            "max_width": null,
            "min_height": null,
            "min_width": null,
            "object_fit": null,
            "object_position": null,
            "order": null,
            "overflow": null,
            "overflow_x": null,
            "overflow_y": null,
            "padding": null,
            "right": null,
            "top": null,
            "visibility": null,
            "width": null
          }
        },
        "ed333bc5a3174624a72c7bd03d706e4a": {
          "model_module": "@jupyter-widgets/base",
          "model_name": "LayoutModel",
          "model_module_version": "1.2.0",
          "state": {
            "_model_module": "@jupyter-widgets/base",
            "_model_module_version": "1.2.0",
            "_model_name": "LayoutModel",
            "_view_count": null,
            "_view_module": "@jupyter-widgets/base",
            "_view_module_version": "1.2.0",
            "_view_name": "LayoutView",
            "align_content": null,
            "align_items": null,
            "align_self": null,
            "border": null,
            "bottom": null,
            "display": null,
            "flex": null,
            "flex_flow": null,
            "grid_area": null,
            "grid_auto_columns": null,
            "grid_auto_flow": null,
            "grid_auto_rows": null,
            "grid_column": null,
            "grid_gap": null,
            "grid_row": null,
            "grid_template_areas": null,
            "grid_template_columns": null,
            "grid_template_rows": null,
            "height": null,
            "justify_content": null,
            "justify_items": null,
            "left": null,
            "margin": null,
            "max_height": null,
            "max_width": null,
            "min_height": null,
            "min_width": null,
            "object_fit": null,
            "object_position": null,
            "order": null,
            "overflow": null,
            "overflow_x": null,
            "overflow_y": null,
            "padding": null,
            "right": null,
            "top": null,
            "visibility": null,
            "width": null
          }
        },
        "9b7f8a35031c4a17ad5caa624dd716b5": {
          "model_module": "@jupyter-widgets/controls",
          "model_name": "DescriptionStyleModel",
          "model_module_version": "1.5.0",
          "state": {
            "_model_module": "@jupyter-widgets/controls",
            "_model_module_version": "1.5.0",
            "_model_name": "DescriptionStyleModel",
            "_view_count": null,
            "_view_module": "@jupyter-widgets/base",
            "_view_module_version": "1.2.0",
            "_view_name": "StyleView",
            "description_width": ""
          }
        },
        "42f8fc09775b4685a8b9e99d27a14164": {
          "model_module": "@jupyter-widgets/base",
          "model_name": "LayoutModel",
          "model_module_version": "1.2.0",
          "state": {
            "_model_module": "@jupyter-widgets/base",
            "_model_module_version": "1.2.0",
            "_model_name": "LayoutModel",
            "_view_count": null,
            "_view_module": "@jupyter-widgets/base",
            "_view_module_version": "1.2.0",
            "_view_name": "LayoutView",
            "align_content": null,
            "align_items": null,
            "align_self": null,
            "border": null,
            "bottom": null,
            "display": null,
            "flex": null,
            "flex_flow": null,
            "grid_area": null,
            "grid_auto_columns": null,
            "grid_auto_flow": null,
            "grid_auto_rows": null,
            "grid_column": null,
            "grid_gap": null,
            "grid_row": null,
            "grid_template_areas": null,
            "grid_template_columns": null,
            "grid_template_rows": null,
            "height": null,
            "justify_content": null,
            "justify_items": null,
            "left": null,
            "margin": null,
            "max_height": null,
            "max_width": null,
            "min_height": null,
            "min_width": null,
            "object_fit": null,
            "object_position": null,
            "order": null,
            "overflow": null,
            "overflow_x": null,
            "overflow_y": null,
            "padding": null,
            "right": null,
            "top": null,
            "visibility": null,
            "width": null
          }
        },
        "8041bc191615436281f48f6d412b5474": {
          "model_module": "@jupyter-widgets/controls",
          "model_name": "ProgressStyleModel",
          "model_module_version": "1.5.0",
          "state": {
            "_model_module": "@jupyter-widgets/controls",
            "_model_module_version": "1.5.0",
            "_model_name": "ProgressStyleModel",
            "_view_count": null,
            "_view_module": "@jupyter-widgets/base",
            "_view_module_version": "1.2.0",
            "_view_name": "StyleView",
            "bar_color": null,
            "description_width": ""
          }
        },
        "d182a2a7463d4f58b3c65ba7e7d7f0ee": {
          "model_module": "@jupyter-widgets/base",
          "model_name": "LayoutModel",
          "model_module_version": "1.2.0",
          "state": {
            "_model_module": "@jupyter-widgets/base",
            "_model_module_version": "1.2.0",
            "_model_name": "LayoutModel",
            "_view_count": null,
            "_view_module": "@jupyter-widgets/base",
            "_view_module_version": "1.2.0",
            "_view_name": "LayoutView",
            "align_content": null,
            "align_items": null,
            "align_self": null,
            "border": null,
            "bottom": null,
            "display": null,
            "flex": null,
            "flex_flow": null,
            "grid_area": null,
            "grid_auto_columns": null,
            "grid_auto_flow": null,
            "grid_auto_rows": null,
            "grid_column": null,
            "grid_gap": null,
            "grid_row": null,
            "grid_template_areas": null,
            "grid_template_columns": null,
            "grid_template_rows": null,
            "height": null,
            "justify_content": null,
            "justify_items": null,
            "left": null,
            "margin": null,
            "max_height": null,
            "max_width": null,
            "min_height": null,
            "min_width": null,
            "object_fit": null,
            "object_position": null,
            "order": null,
            "overflow": null,
            "overflow_x": null,
            "overflow_y": null,
            "padding": null,
            "right": null,
            "top": null,
            "visibility": null,
            "width": null
          }
        },
        "cd5a91e54f194326b2f69ba87da1684d": {
          "model_module": "@jupyter-widgets/controls",
          "model_name": "DescriptionStyleModel",
          "model_module_version": "1.5.0",
          "state": {
            "_model_module": "@jupyter-widgets/controls",
            "_model_module_version": "1.5.0",
            "_model_name": "DescriptionStyleModel",
            "_view_count": null,
            "_view_module": "@jupyter-widgets/base",
            "_view_module_version": "1.2.0",
            "_view_name": "StyleView",
            "description_width": ""
          }
        },
        "9ae1cab0e8974d1cbeeab554da966096": {
          "model_module": "@jupyter-widgets/controls",
          "model_name": "HBoxModel",
          "model_module_version": "1.5.0",
          "state": {
            "_dom_classes": [],
            "_model_module": "@jupyter-widgets/controls",
            "_model_module_version": "1.5.0",
            "_model_name": "HBoxModel",
            "_view_count": null,
            "_view_module": "@jupyter-widgets/controls",
            "_view_module_version": "1.5.0",
            "_view_name": "HBoxView",
            "box_style": "",
            "children": [
              "IPY_MODEL_23477ebdc54a4c859bfdae24ae549f1c",
              "IPY_MODEL_998a791e4a8342aab6804b56a90586c0",
              "IPY_MODEL_3729a82f9d5d4aa0be05eb9483346178"
            ],
            "layout": "IPY_MODEL_09993dcd3059442fa90b673bc062ac1f"
          }
        },
        "23477ebdc54a4c859bfdae24ae549f1c": {
          "model_module": "@jupyter-widgets/controls",
          "model_name": "HTMLModel",
          "model_module_version": "1.5.0",
          "state": {
            "_dom_classes": [],
            "_model_module": "@jupyter-widgets/controls",
            "_model_module_version": "1.5.0",
            "_model_name": "HTMLModel",
            "_view_count": null,
            "_view_module": "@jupyter-widgets/controls",
            "_view_module_version": "1.5.0",
            "_view_name": "HTMLView",
            "description": "",
            "description_tooltip": null,
            "layout": "IPY_MODEL_0b096dbcb91d40ae94b16bc77a0bde5b",
            "placeholder": "​",
            "style": "IPY_MODEL_6da53b4a5c20451ebdc3a1bb627e29f1",
            "value": "Map: 100%"
          }
        },
        "998a791e4a8342aab6804b56a90586c0": {
          "model_module": "@jupyter-widgets/controls",
          "model_name": "FloatProgressModel",
          "model_module_version": "1.5.0",
          "state": {
            "_dom_classes": [],
            "_model_module": "@jupyter-widgets/controls",
            "_model_module_version": "1.5.0",
            "_model_name": "FloatProgressModel",
            "_view_count": null,
            "_view_module": "@jupyter-widgets/controls",
            "_view_module_version": "1.5.0",
            "_view_name": "ProgressView",
            "bar_style": "success",
            "description": "",
            "description_tooltip": null,
            "layout": "IPY_MODEL_15aa087a0a4e4cc2b0241712328bd07e",
            "max": 485,
            "min": 0,
            "orientation": "horizontal",
            "style": "IPY_MODEL_0c9b8f5c78eb48deb86ec50d0054640b",
            "value": 485
          }
        },
        "3729a82f9d5d4aa0be05eb9483346178": {
          "model_module": "@jupyter-widgets/controls",
          "model_name": "HTMLModel",
          "model_module_version": "1.5.0",
          "state": {
            "_dom_classes": [],
            "_model_module": "@jupyter-widgets/controls",
            "_model_module_version": "1.5.0",
            "_model_name": "HTMLModel",
            "_view_count": null,
            "_view_module": "@jupyter-widgets/controls",
            "_view_module_version": "1.5.0",
            "_view_name": "HTMLView",
            "description": "",
            "description_tooltip": null,
            "layout": "IPY_MODEL_848c41c5ab98419eb4c962193d757985",
            "placeholder": "​",
            "style": "IPY_MODEL_16bb6b8df36049868eb06e83bb7bbd0c",
            "value": " 485/485 [00:00&lt;00:00, 806.72 examples/s]"
          }
        },
        "09993dcd3059442fa90b673bc062ac1f": {
          "model_module": "@jupyter-widgets/base",
          "model_name": "LayoutModel",
          "model_module_version": "1.2.0",
          "state": {
            "_model_module": "@jupyter-widgets/base",
            "_model_module_version": "1.2.0",
            "_model_name": "LayoutModel",
            "_view_count": null,
            "_view_module": "@jupyter-widgets/base",
            "_view_module_version": "1.2.0",
            "_view_name": "LayoutView",
            "align_content": null,
            "align_items": null,
            "align_self": null,
            "border": null,
            "bottom": null,
            "display": null,
            "flex": null,
            "flex_flow": null,
            "grid_area": null,
            "grid_auto_columns": null,
            "grid_auto_flow": null,
            "grid_auto_rows": null,
            "grid_column": null,
            "grid_gap": null,
            "grid_row": null,
            "grid_template_areas": null,
            "grid_template_columns": null,
            "grid_template_rows": null,
            "height": null,
            "justify_content": null,
            "justify_items": null,
            "left": null,
            "margin": null,
            "max_height": null,
            "max_width": null,
            "min_height": null,
            "min_width": null,
            "object_fit": null,
            "object_position": null,
            "order": null,
            "overflow": null,
            "overflow_x": null,
            "overflow_y": null,
            "padding": null,
            "right": null,
            "top": null,
            "visibility": null,
            "width": null
          }
        },
        "0b096dbcb91d40ae94b16bc77a0bde5b": {
          "model_module": "@jupyter-widgets/base",
          "model_name": "LayoutModel",
          "model_module_version": "1.2.0",
          "state": {
            "_model_module": "@jupyter-widgets/base",
            "_model_module_version": "1.2.0",
            "_model_name": "LayoutModel",
            "_view_count": null,
            "_view_module": "@jupyter-widgets/base",
            "_view_module_version": "1.2.0",
            "_view_name": "LayoutView",
            "align_content": null,
            "align_items": null,
            "align_self": null,
            "border": null,
            "bottom": null,
            "display": null,
            "flex": null,
            "flex_flow": null,
            "grid_area": null,
            "grid_auto_columns": null,
            "grid_auto_flow": null,
            "grid_auto_rows": null,
            "grid_column": null,
            "grid_gap": null,
            "grid_row": null,
            "grid_template_areas": null,
            "grid_template_columns": null,
            "grid_template_rows": null,
            "height": null,
            "justify_content": null,
            "justify_items": null,
            "left": null,
            "margin": null,
            "max_height": null,
            "max_width": null,
            "min_height": null,
            "min_width": null,
            "object_fit": null,
            "object_position": null,
            "order": null,
            "overflow": null,
            "overflow_x": null,
            "overflow_y": null,
            "padding": null,
            "right": null,
            "top": null,
            "visibility": null,
            "width": null
          }
        },
        "6da53b4a5c20451ebdc3a1bb627e29f1": {
          "model_module": "@jupyter-widgets/controls",
          "model_name": "DescriptionStyleModel",
          "model_module_version": "1.5.0",
          "state": {
            "_model_module": "@jupyter-widgets/controls",
            "_model_module_version": "1.5.0",
            "_model_name": "DescriptionStyleModel",
            "_view_count": null,
            "_view_module": "@jupyter-widgets/base",
            "_view_module_version": "1.2.0",
            "_view_name": "StyleView",
            "description_width": ""
          }
        },
        "15aa087a0a4e4cc2b0241712328bd07e": {
          "model_module": "@jupyter-widgets/base",
          "model_name": "LayoutModel",
          "model_module_version": "1.2.0",
          "state": {
            "_model_module": "@jupyter-widgets/base",
            "_model_module_version": "1.2.0",
            "_model_name": "LayoutModel",
            "_view_count": null,
            "_view_module": "@jupyter-widgets/base",
            "_view_module_version": "1.2.0",
            "_view_name": "LayoutView",
            "align_content": null,
            "align_items": null,
            "align_self": null,
            "border": null,
            "bottom": null,
            "display": null,
            "flex": null,
            "flex_flow": null,
            "grid_area": null,
            "grid_auto_columns": null,
            "grid_auto_flow": null,
            "grid_auto_rows": null,
            "grid_column": null,
            "grid_gap": null,
            "grid_row": null,
            "grid_template_areas": null,
            "grid_template_columns": null,
            "grid_template_rows": null,
            "height": null,
            "justify_content": null,
            "justify_items": null,
            "left": null,
            "margin": null,
            "max_height": null,
            "max_width": null,
            "min_height": null,
            "min_width": null,
            "object_fit": null,
            "object_position": null,
            "order": null,
            "overflow": null,
            "overflow_x": null,
            "overflow_y": null,
            "padding": null,
            "right": null,
            "top": null,
            "visibility": null,
            "width": null
          }
        },
        "0c9b8f5c78eb48deb86ec50d0054640b": {
          "model_module": "@jupyter-widgets/controls",
          "model_name": "ProgressStyleModel",
          "model_module_version": "1.5.0",
          "state": {
            "_model_module": "@jupyter-widgets/controls",
            "_model_module_version": "1.5.0",
            "_model_name": "ProgressStyleModel",
            "_view_count": null,
            "_view_module": "@jupyter-widgets/base",
            "_view_module_version": "1.2.0",
            "_view_name": "StyleView",
            "bar_color": null,
            "description_width": ""
          }
        },
        "848c41c5ab98419eb4c962193d757985": {
          "model_module": "@jupyter-widgets/base",
          "model_name": "LayoutModel",
          "model_module_version": "1.2.0",
          "state": {
            "_model_module": "@jupyter-widgets/base",
            "_model_module_version": "1.2.0",
            "_model_name": "LayoutModel",
            "_view_count": null,
            "_view_module": "@jupyter-widgets/base",
            "_view_module_version": "1.2.0",
            "_view_name": "LayoutView",
            "align_content": null,
            "align_items": null,
            "align_self": null,
            "border": null,
            "bottom": null,
            "display": null,
            "flex": null,
            "flex_flow": null,
            "grid_area": null,
            "grid_auto_columns": null,
            "grid_auto_flow": null,
            "grid_auto_rows": null,
            "grid_column": null,
            "grid_gap": null,
            "grid_row": null,
            "grid_template_areas": null,
            "grid_template_columns": null,
            "grid_template_rows": null,
            "height": null,
            "justify_content": null,
            "justify_items": null,
            "left": null,
            "margin": null,
            "max_height": null,
            "max_width": null,
            "min_height": null,
            "min_width": null,
            "object_fit": null,
            "object_position": null,
            "order": null,
            "overflow": null,
            "overflow_x": null,
            "overflow_y": null,
            "padding": null,
            "right": null,
            "top": null,
            "visibility": null,
            "width": null
          }
        },
        "16bb6b8df36049868eb06e83bb7bbd0c": {
          "model_module": "@jupyter-widgets/controls",
          "model_name": "DescriptionStyleModel",
          "model_module_version": "1.5.0",
          "state": {
            "_model_module": "@jupyter-widgets/controls",
            "_model_module_version": "1.5.0",
            "_model_name": "DescriptionStyleModel",
            "_view_count": null,
            "_view_module": "@jupyter-widgets/base",
            "_view_module_version": "1.2.0",
            "_view_name": "StyleView",
            "description_width": ""
          }
        }
      }
    }
  },
  "cells": [
    {
      "cell_type": "markdown",
      "source": [
        "# **AraBERT v1 & v2: Pre-training BERT for Arabic Language Understanding**"
      ],
      "metadata": {
        "id": "-dASbWcWdFTc"
      }
    },
    {
      "cell_type": "markdown",
      "source": [
        "# 1.0. Download the needed libraries"
      ],
      "metadata": {
        "id": "nOKR1RdudOPN"
      }
    },
    {
      "cell_type": "code",
      "execution_count": 61,
      "metadata": {
        "id": "XlrvlfC43TpZ"
      },
      "outputs": [],
      "source": [
        "!pip install datasets evaluate transformers[sentencepiece] seqeval --quiet"
      ]
    },
    {
      "cell_type": "markdown",
      "source": [
        "**1.1. Upload and group words**"
      ],
      "metadata": {
        "id": "SAh80qpUdeJB"
      }
    },
    {
      "cell_type": "code",
      "source": [
        "import pandas as pd\n",
        "\n",
        "df = pd.read_excel(\"/content/All_data.xlsx\")\n",
        "df = df.groupby(\"Sentence #\").agg({\"word\": list, \"aspect\": list, \"categort\": list, \"polarity\": list}).reset_index()"
      ],
      "metadata": {
        "colab": {
          "base_uri": "https://localhost:8080/"
        },
        "id": "vTkh0-k53e54",
        "outputId": "3e57afba-539c-49ca-c725-8ed9175b0bd0"
      },
      "execution_count": 62,
      "outputs": [
        {
          "output_type": "stream",
          "name": "stderr",
          "text": [
            "/usr/local/lib/python3.11/dist-packages/openpyxl/worksheet/_reader.py:329: UserWarning: Data Validation extension is not supported and will be removed\n",
            "  warn(msg)\n"
          ]
        }
      ]
    },
    {
      "cell_type": "markdown",
      "source": [
        "**1.2. Combine the Category and Aspect Columns to create target column**"
      ],
      "metadata": {
        "id": "aQ6u1bwOdqsE"
      }
    },
    {
      "cell_type": "code",
      "source": [
        "def combine(row):\n",
        "    return [f\"{asp}-{cat}\" if asp != \"O\" else \"O\" for asp, cat in zip(row[\"aspect\"], row[\"categort\"])]\n",
        "\n",
        "df[\"new_col\"] = df.apply(combine, axis=1)\n",
        "\n",
        "df"
      ],
      "metadata": {
        "colab": {
          "base_uri": "https://localhost:8080/",
          "height": 597
        },
        "id": "sfLNaww77Ls7",
        "outputId": "4169d862-b3c9-42c5-f2af-763c97ffa767"
      },
      "execution_count": 63,
      "outputs": [
        {
          "output_type": "execute_result",
          "data": {
            "text/plain": [
              "         Sentence #                                               word  \\\n",
              "0        Sentence:0  [عمال, شركات, التوصيل, أمثال, ذبحونا, ابعث, لي...   \n",
              "1        Sentence:1  [أسو, خدمة, مرت, علي, بحياتي, و, فوق, هذا, اكل...   \n",
              "2       Sentence:10  [متخيلة, يقول, ليي, روحي, للبيت, اخذي, اوردرش,...   \n",
              "3      Sentence:100  [ليش, بتطلبوا, العنوان, عالموقع, اذا, السائق, ...   \n",
              "4     Sentence:1000  [كلمهم, بالانستغرام, بنص, ساعة, لك, فلوسك, يردون]   \n",
              "...             ...                                                ...   \n",
              "4841   Sentence:995  [تطبيق, منتجاتنا, على, طلبات, في, مدينة, العين...   \n",
              "4842   Sentence:996  [ابشرك, انا, طالب, من, ساعه, والغو, الطلب, وسح...   \n",
              "4843   Sentence:997  [اسوا, خدمه, فعلا, من, امس, طلبت, وتم, الغا, ا...   \n",
              "4844   Sentence:998  [اني, اللي, قهرني, البارحه, انه, يطلع, ليي, دق...   \n",
              "4845   Sentence:999  [يا, جماعه, الخير, مالكم, ارقام, نكلمكم, عليها...   \n",
              "\n",
              "                                                 aspect  \\\n",
              "0     [O, O, O, O, B, O, O, B, O, O, O, O, O, O, O, ...   \n",
              "1     [B, I, O, O, O, O, O, O, O, O, B, O, O, O, O, ...   \n",
              "2     [O, O, O, O, O, O, B, O, O, O, O, B, I, O, O, ...   \n",
              "3     [O, O, I, B, O, O, O, O, O, O, I, O, O, I, I, ...   \n",
              "4                                 [O, O, O, I, O, B, B]   \n",
              "...                                                 ...   \n",
              "4841  [B, O, O, O, O, O, O, O, O, O, I, O, O, O, O, ...   \n",
              "4842  [O, O, B, O, I, O, O, B, I, O, O, O, O, O, I, ...   \n",
              "4843  [B, I, O, O, O, O, O, B, O, O, I, O, O, B, I, ...   \n",
              "4844  [O, O, O, O, O, O, O, O, O, O, O, O, I, O, O, ...   \n",
              "4845  [O, O, O, O, O, O, O, I, O, O, O, B, O, O, B, ...   \n",
              "\n",
              "                                               categort  \\\n",
              "0     [O, O, O, O, Service, O, O, Location, O, O, O,...   \n",
              "1     [Service, Service, O, O, O, O, O, O, O, O, Ser...   \n",
              "2     [O, O, O, O, O, O, Service, O, O, O, O, Locati...   \n",
              "3     [O, O, Location, Location, O, O, O, O, O, O, L...   \n",
              "4                      [O, O, O, Time, O, Price, Price]   \n",
              "...                                                 ...   \n",
              "4841  [Service, O, O, O, O, O, O, O, O, O, Time, O, ...   \n",
              "4842  [O, O, Time, O, Time, O, O, Price, Price, O, O...   \n",
              "4843  [Service, Service, O, O, O, O, O, Service, O, ...   \n",
              "4844  [O, O, O, O, O, O, O, O, O, O, O, O, Time, O, ...   \n",
              "4845  [O, O, O, O, O, O, O, Time, O, O, O, Service, ...   \n",
              "\n",
              "                                               polarity  \\\n",
              "0     [O, O, O, O, Neg, O, O, Neg, O, O, O, O, O, O,...   \n",
              "1     [Neg, Neg, O, O, O, O, O, O, O, O, Neg, O, O, ...   \n",
              "2     [O, O, O, O, O, O, Neg, O, O, O, O, Neg, Neg, ...   \n",
              "3     [O, O, Neg, Neg, O, O, O, O, O, O, Neg, O, O, ...   \n",
              "4                           [O, O, O, Neg, O, Pos, Pos]   \n",
              "...                                                 ...   \n",
              "4841  [Pos, O, O, O, O, O, O, O, O, O, Neg, O, O, O,...   \n",
              "4842  [O, O, Neg, O, Neg, O, O, Neg, Neg, O, O, O, O...   \n",
              "4843  [Neg, Neg, O, O, O, O, O, Neg, O, O, Neg, O, O...   \n",
              "4844  [O, O, O, O, O, O, O, O, O, O, O, O, Neg, O, O...   \n",
              "4845  [O, O, O, O, O, O, O, Neg, O, O, O, Neg, O, O,...   \n",
              "\n",
              "                                                new_col  \n",
              "0     [O, O, O, O, B-Service, O, O, B-Location, O, O...  \n",
              "1     [B-Service, I-Service, O, O, O, O, O, O, O, O,...  \n",
              "2     [O, O, O, O, O, O, B-Service, O, O, O, O, B-Lo...  \n",
              "3     [O, O, I-Location, B-Location, O, O, O, O, O, ...  \n",
              "4                [O, O, O, I-Time, O, B-Price, B-Price]  \n",
              "...                                                 ...  \n",
              "4841  [B-Service, O, O, O, O, O, O, O, O, O, I-Time,...  \n",
              "4842  [O, O, B-Time, O, I-Time, O, O, B-Price, I-Pri...  \n",
              "4843  [B-Service, I-Service, O, O, O, O, O, B-Servic...  \n",
              "4844  [O, O, O, O, O, O, O, O, O, O, O, O, I-Time, O...  \n",
              "4845  [O, O, O, O, O, O, O, I-Time, O, O, O, B-Servi...  \n",
              "\n",
              "[4846 rows x 6 columns]"
            ],
            "text/html": [
              "\n",
              "  <div id=\"df-67799a6a-bb9b-4822-bdb3-ec767b318502\" class=\"colab-df-container\">\n",
              "    <div>\n",
              "<style scoped>\n",
              "    .dataframe tbody tr th:only-of-type {\n",
              "        vertical-align: middle;\n",
              "    }\n",
              "\n",
              "    .dataframe tbody tr th {\n",
              "        vertical-align: top;\n",
              "    }\n",
              "\n",
              "    .dataframe thead th {\n",
              "        text-align: right;\n",
              "    }\n",
              "</style>\n",
              "<table border=\"1\" class=\"dataframe\">\n",
              "  <thead>\n",
              "    <tr style=\"text-align: right;\">\n",
              "      <th></th>\n",
              "      <th>Sentence #</th>\n",
              "      <th>word</th>\n",
              "      <th>aspect</th>\n",
              "      <th>categort</th>\n",
              "      <th>polarity</th>\n",
              "      <th>new_col</th>\n",
              "    </tr>\n",
              "  </thead>\n",
              "  <tbody>\n",
              "    <tr>\n",
              "      <th>0</th>\n",
              "      <td>Sentence:0</td>\n",
              "      <td>[عمال, شركات, التوصيل, أمثال, ذبحونا, ابعث, لي...</td>\n",
              "      <td>[O, O, O, O, B, O, O, B, O, O, O, O, O, O, O, ...</td>\n",
              "      <td>[O, O, O, O, Service, O, O, Location, O, O, O,...</td>\n",
              "      <td>[O, O, O, O, Neg, O, O, Neg, O, O, O, O, O, O,...</td>\n",
              "      <td>[O, O, O, O, B-Service, O, O, B-Location, O, O...</td>\n",
              "    </tr>\n",
              "    <tr>\n",
              "      <th>1</th>\n",
              "      <td>Sentence:1</td>\n",
              "      <td>[أسو, خدمة, مرت, علي, بحياتي, و, فوق, هذا, اكل...</td>\n",
              "      <td>[B, I, O, O, O, O, O, O, O, O, B, O, O, O, O, ...</td>\n",
              "      <td>[Service, Service, O, O, O, O, O, O, O, O, Ser...</td>\n",
              "      <td>[Neg, Neg, O, O, O, O, O, O, O, O, Neg, O, O, ...</td>\n",
              "      <td>[B-Service, I-Service, O, O, O, O, O, O, O, O,...</td>\n",
              "    </tr>\n",
              "    <tr>\n",
              "      <th>2</th>\n",
              "      <td>Sentence:10</td>\n",
              "      <td>[متخيلة, يقول, ليي, روحي, للبيت, اخذي, اوردرش,...</td>\n",
              "      <td>[O, O, O, O, O, O, B, O, O, O, O, B, I, O, O, ...</td>\n",
              "      <td>[O, O, O, O, O, O, Service, O, O, O, O, Locati...</td>\n",
              "      <td>[O, O, O, O, O, O, Neg, O, O, O, O, Neg, Neg, ...</td>\n",
              "      <td>[O, O, O, O, O, O, B-Service, O, O, O, O, B-Lo...</td>\n",
              "    </tr>\n",
              "    <tr>\n",
              "      <th>3</th>\n",
              "      <td>Sentence:100</td>\n",
              "      <td>[ليش, بتطلبوا, العنوان, عالموقع, اذا, السائق, ...</td>\n",
              "      <td>[O, O, I, B, O, O, O, O, O, O, I, O, O, I, I, ...</td>\n",
              "      <td>[O, O, Location, Location, O, O, O, O, O, O, L...</td>\n",
              "      <td>[O, O, Neg, Neg, O, O, O, O, O, O, Neg, O, O, ...</td>\n",
              "      <td>[O, O, I-Location, B-Location, O, O, O, O, O, ...</td>\n",
              "    </tr>\n",
              "    <tr>\n",
              "      <th>4</th>\n",
              "      <td>Sentence:1000</td>\n",
              "      <td>[كلمهم, بالانستغرام, بنص, ساعة, لك, فلوسك, يردون]</td>\n",
              "      <td>[O, O, O, I, O, B, B]</td>\n",
              "      <td>[O, O, O, Time, O, Price, Price]</td>\n",
              "      <td>[O, O, O, Neg, O, Pos, Pos]</td>\n",
              "      <td>[O, O, O, I-Time, O, B-Price, B-Price]</td>\n",
              "    </tr>\n",
              "    <tr>\n",
              "      <th>...</th>\n",
              "      <td>...</td>\n",
              "      <td>...</td>\n",
              "      <td>...</td>\n",
              "      <td>...</td>\n",
              "      <td>...</td>\n",
              "      <td>...</td>\n",
              "    </tr>\n",
              "    <tr>\n",
              "      <th>4841</th>\n",
              "      <td>Sentence:995</td>\n",
              "      <td>[تطبيق, منتجاتنا, على, طلبات, في, مدينة, العين...</td>\n",
              "      <td>[B, O, O, O, O, O, O, O, O, O, I, O, O, O, O, ...</td>\n",
              "      <td>[Service, O, O, O, O, O, O, O, O, O, Time, O, ...</td>\n",
              "      <td>[Pos, O, O, O, O, O, O, O, O, O, Neg, O, O, O,...</td>\n",
              "      <td>[B-Service, O, O, O, O, O, O, O, O, O, I-Time,...</td>\n",
              "    </tr>\n",
              "    <tr>\n",
              "      <th>4842</th>\n",
              "      <td>Sentence:996</td>\n",
              "      <td>[ابشرك, انا, طالب, من, ساعه, والغو, الطلب, وسح...</td>\n",
              "      <td>[O, O, B, O, I, O, O, B, I, O, O, O, O, O, I, ...</td>\n",
              "      <td>[O, O, Time, O, Time, O, O, Price, Price, O, O...</td>\n",
              "      <td>[O, O, Neg, O, Neg, O, O, Neg, Neg, O, O, O, O...</td>\n",
              "      <td>[O, O, B-Time, O, I-Time, O, O, B-Price, I-Pri...</td>\n",
              "    </tr>\n",
              "    <tr>\n",
              "      <th>4843</th>\n",
              "      <td>Sentence:997</td>\n",
              "      <td>[اسوا, خدمه, فعلا, من, امس, طلبت, وتم, الغا, ا...</td>\n",
              "      <td>[B, I, O, O, O, O, O, B, O, O, I, O, O, B, I, ...</td>\n",
              "      <td>[Service, Service, O, O, O, O, O, Service, O, ...</td>\n",
              "      <td>[Neg, Neg, O, O, O, O, O, Neg, O, O, Neg, O, O...</td>\n",
              "      <td>[B-Service, I-Service, O, O, O, O, O, B-Servic...</td>\n",
              "    </tr>\n",
              "    <tr>\n",
              "      <th>4844</th>\n",
              "      <td>Sentence:998</td>\n",
              "      <td>[اني, اللي, قهرني, البارحه, انه, يطلع, ليي, دق...</td>\n",
              "      <td>[O, O, O, O, O, O, O, O, O, O, O, O, I, O, O, ...</td>\n",
              "      <td>[O, O, O, O, O, O, O, O, O, O, O, O, Time, O, ...</td>\n",
              "      <td>[O, O, O, O, O, O, O, O, O, O, O, O, Neg, O, O...</td>\n",
              "      <td>[O, O, O, O, O, O, O, O, O, O, O, O, I-Time, O...</td>\n",
              "    </tr>\n",
              "    <tr>\n",
              "      <th>4845</th>\n",
              "      <td>Sentence:999</td>\n",
              "      <td>[يا, جماعه, الخير, مالكم, ارقام, نكلمكم, عليها...</td>\n",
              "      <td>[O, O, O, O, O, O, O, I, O, O, O, B, O, O, B, ...</td>\n",
              "      <td>[O, O, O, O, O, O, O, Time, O, O, O, Service, ...</td>\n",
              "      <td>[O, O, O, O, O, O, O, Neg, O, O, O, Neg, O, O,...</td>\n",
              "      <td>[O, O, O, O, O, O, O, I-Time, O, O, O, B-Servi...</td>\n",
              "    </tr>\n",
              "  </tbody>\n",
              "</table>\n",
              "<p>4846 rows × 6 columns</p>\n",
              "</div>\n",
              "    <div class=\"colab-df-buttons\">\n",
              "\n",
              "  <div class=\"colab-df-container\">\n",
              "    <button class=\"colab-df-convert\" onclick=\"convertToInteractive('df-67799a6a-bb9b-4822-bdb3-ec767b318502')\"\n",
              "            title=\"Convert this dataframe to an interactive table.\"\n",
              "            style=\"display:none;\">\n",
              "\n",
              "  <svg xmlns=\"http://www.w3.org/2000/svg\" height=\"24px\" viewBox=\"0 -960 960 960\">\n",
              "    <path d=\"M120-120v-720h720v720H120Zm60-500h600v-160H180v160Zm220 220h160v-160H400v160Zm0 220h160v-160H400v160ZM180-400h160v-160H180v160Zm440 0h160v-160H620v160ZM180-180h160v-160H180v160Zm440 0h160v-160H620v160Z\"/>\n",
              "  </svg>\n",
              "    </button>\n",
              "\n",
              "  <style>\n",
              "    .colab-df-container {\n",
              "      display:flex;\n",
              "      gap: 12px;\n",
              "    }\n",
              "\n",
              "    .colab-df-convert {\n",
              "      background-color: #E8F0FE;\n",
              "      border: none;\n",
              "      border-radius: 50%;\n",
              "      cursor: pointer;\n",
              "      display: none;\n",
              "      fill: #1967D2;\n",
              "      height: 32px;\n",
              "      padding: 0 0 0 0;\n",
              "      width: 32px;\n",
              "    }\n",
              "\n",
              "    .colab-df-convert:hover {\n",
              "      background-color: #E2EBFA;\n",
              "      box-shadow: 0px 1px 2px rgba(60, 64, 67, 0.3), 0px 1px 3px 1px rgba(60, 64, 67, 0.15);\n",
              "      fill: #174EA6;\n",
              "    }\n",
              "\n",
              "    .colab-df-buttons div {\n",
              "      margin-bottom: 4px;\n",
              "    }\n",
              "\n",
              "    [theme=dark] .colab-df-convert {\n",
              "      background-color: #3B4455;\n",
              "      fill: #D2E3FC;\n",
              "    }\n",
              "\n",
              "    [theme=dark] .colab-df-convert:hover {\n",
              "      background-color: #434B5C;\n",
              "      box-shadow: 0px 1px 3px 1px rgba(0, 0, 0, 0.15);\n",
              "      filter: drop-shadow(0px 1px 2px rgba(0, 0, 0, 0.3));\n",
              "      fill: #FFFFFF;\n",
              "    }\n",
              "  </style>\n",
              "\n",
              "    <script>\n",
              "      const buttonEl =\n",
              "        document.querySelector('#df-67799a6a-bb9b-4822-bdb3-ec767b318502 button.colab-df-convert');\n",
              "      buttonEl.style.display =\n",
              "        google.colab.kernel.accessAllowed ? 'block' : 'none';\n",
              "\n",
              "      async function convertToInteractive(key) {\n",
              "        const element = document.querySelector('#df-67799a6a-bb9b-4822-bdb3-ec767b318502');\n",
              "        const dataTable =\n",
              "          await google.colab.kernel.invokeFunction('convertToInteractive',\n",
              "                                                    [key], {});\n",
              "        if (!dataTable) return;\n",
              "\n",
              "        const docLinkHtml = 'Like what you see? Visit the ' +\n",
              "          '<a target=\"_blank\" href=https://colab.research.google.com/notebooks/data_table.ipynb>data table notebook</a>'\n",
              "          + ' to learn more about interactive tables.';\n",
              "        element.innerHTML = '';\n",
              "        dataTable['output_type'] = 'display_data';\n",
              "        await google.colab.output.renderOutput(dataTable, element);\n",
              "        const docLink = document.createElement('div');\n",
              "        docLink.innerHTML = docLinkHtml;\n",
              "        element.appendChild(docLink);\n",
              "      }\n",
              "    </script>\n",
              "  </div>\n",
              "\n",
              "\n",
              "    <div id=\"df-de3d4931-a6cf-4a85-a815-18d253a74b45\">\n",
              "      <button class=\"colab-df-quickchart\" onclick=\"quickchart('df-de3d4931-a6cf-4a85-a815-18d253a74b45')\"\n",
              "                title=\"Suggest charts\"\n",
              "                style=\"display:none;\">\n",
              "\n",
              "<svg xmlns=\"http://www.w3.org/2000/svg\" height=\"24px\"viewBox=\"0 0 24 24\"\n",
              "     width=\"24px\">\n",
              "    <g>\n",
              "        <path d=\"M19 3H5c-1.1 0-2 .9-2 2v14c0 1.1.9 2 2 2h14c1.1 0 2-.9 2-2V5c0-1.1-.9-2-2-2zM9 17H7v-7h2v7zm4 0h-2V7h2v10zm4 0h-2v-4h2v4z\"/>\n",
              "    </g>\n",
              "</svg>\n",
              "      </button>\n",
              "\n",
              "<style>\n",
              "  .colab-df-quickchart {\n",
              "      --bg-color: #E8F0FE;\n",
              "      --fill-color: #1967D2;\n",
              "      --hover-bg-color: #E2EBFA;\n",
              "      --hover-fill-color: #174EA6;\n",
              "      --disabled-fill-color: #AAA;\n",
              "      --disabled-bg-color: #DDD;\n",
              "  }\n",
              "\n",
              "  [theme=dark] .colab-df-quickchart {\n",
              "      --bg-color: #3B4455;\n",
              "      --fill-color: #D2E3FC;\n",
              "      --hover-bg-color: #434B5C;\n",
              "      --hover-fill-color: #FFFFFF;\n",
              "      --disabled-bg-color: #3B4455;\n",
              "      --disabled-fill-color: #666;\n",
              "  }\n",
              "\n",
              "  .colab-df-quickchart {\n",
              "    background-color: var(--bg-color);\n",
              "    border: none;\n",
              "    border-radius: 50%;\n",
              "    cursor: pointer;\n",
              "    display: none;\n",
              "    fill: var(--fill-color);\n",
              "    height: 32px;\n",
              "    padding: 0;\n",
              "    width: 32px;\n",
              "  }\n",
              "\n",
              "  .colab-df-quickchart:hover {\n",
              "    background-color: var(--hover-bg-color);\n",
              "    box-shadow: 0 1px 2px rgba(60, 64, 67, 0.3), 0 1px 3px 1px rgba(60, 64, 67, 0.15);\n",
              "    fill: var(--button-hover-fill-color);\n",
              "  }\n",
              "\n",
              "  .colab-df-quickchart-complete:disabled,\n",
              "  .colab-df-quickchart-complete:disabled:hover {\n",
              "    background-color: var(--disabled-bg-color);\n",
              "    fill: var(--disabled-fill-color);\n",
              "    box-shadow: none;\n",
              "  }\n",
              "\n",
              "  .colab-df-spinner {\n",
              "    border: 2px solid var(--fill-color);\n",
              "    border-color: transparent;\n",
              "    border-bottom-color: var(--fill-color);\n",
              "    animation:\n",
              "      spin 1s steps(1) infinite;\n",
              "  }\n",
              "\n",
              "  @keyframes spin {\n",
              "    0% {\n",
              "      border-color: transparent;\n",
              "      border-bottom-color: var(--fill-color);\n",
              "      border-left-color: var(--fill-color);\n",
              "    }\n",
              "    20% {\n",
              "      border-color: transparent;\n",
              "      border-left-color: var(--fill-color);\n",
              "      border-top-color: var(--fill-color);\n",
              "    }\n",
              "    30% {\n",
              "      border-color: transparent;\n",
              "      border-left-color: var(--fill-color);\n",
              "      border-top-color: var(--fill-color);\n",
              "      border-right-color: var(--fill-color);\n",
              "    }\n",
              "    40% {\n",
              "      border-color: transparent;\n",
              "      border-right-color: var(--fill-color);\n",
              "      border-top-color: var(--fill-color);\n",
              "    }\n",
              "    60% {\n",
              "      border-color: transparent;\n",
              "      border-right-color: var(--fill-color);\n",
              "    }\n",
              "    80% {\n",
              "      border-color: transparent;\n",
              "      border-right-color: var(--fill-color);\n",
              "      border-bottom-color: var(--fill-color);\n",
              "    }\n",
              "    90% {\n",
              "      border-color: transparent;\n",
              "      border-bottom-color: var(--fill-color);\n",
              "    }\n",
              "  }\n",
              "</style>\n",
              "\n",
              "      <script>\n",
              "        async function quickchart(key) {\n",
              "          const quickchartButtonEl =\n",
              "            document.querySelector('#' + key + ' button');\n",
              "          quickchartButtonEl.disabled = true;  // To prevent multiple clicks.\n",
              "          quickchartButtonEl.classList.add('colab-df-spinner');\n",
              "          try {\n",
              "            const charts = await google.colab.kernel.invokeFunction(\n",
              "                'suggestCharts', [key], {});\n",
              "          } catch (error) {\n",
              "            console.error('Error during call to suggestCharts:', error);\n",
              "          }\n",
              "          quickchartButtonEl.classList.remove('colab-df-spinner');\n",
              "          quickchartButtonEl.classList.add('colab-df-quickchart-complete');\n",
              "        }\n",
              "        (() => {\n",
              "          let quickchartButtonEl =\n",
              "            document.querySelector('#df-de3d4931-a6cf-4a85-a815-18d253a74b45 button');\n",
              "          quickchartButtonEl.style.display =\n",
              "            google.colab.kernel.accessAllowed ? 'block' : 'none';\n",
              "        })();\n",
              "      </script>\n",
              "    </div>\n",
              "\n",
              "  <div id=\"id_bda42106-0131-429d-b4f4-d24ed2314fd0\">\n",
              "    <style>\n",
              "      .colab-df-generate {\n",
              "        background-color: #E8F0FE;\n",
              "        border: none;\n",
              "        border-radius: 50%;\n",
              "        cursor: pointer;\n",
              "        display: none;\n",
              "        fill: #1967D2;\n",
              "        height: 32px;\n",
              "        padding: 0 0 0 0;\n",
              "        width: 32px;\n",
              "      }\n",
              "\n",
              "      .colab-df-generate:hover {\n",
              "        background-color: #E2EBFA;\n",
              "        box-shadow: 0px 1px 2px rgba(60, 64, 67, 0.3), 0px 1px 3px 1px rgba(60, 64, 67, 0.15);\n",
              "        fill: #174EA6;\n",
              "      }\n",
              "\n",
              "      [theme=dark] .colab-df-generate {\n",
              "        background-color: #3B4455;\n",
              "        fill: #D2E3FC;\n",
              "      }\n",
              "\n",
              "      [theme=dark] .colab-df-generate:hover {\n",
              "        background-color: #434B5C;\n",
              "        box-shadow: 0px 1px 3px 1px rgba(0, 0, 0, 0.15);\n",
              "        filter: drop-shadow(0px 1px 2px rgba(0, 0, 0, 0.3));\n",
              "        fill: #FFFFFF;\n",
              "      }\n",
              "    </style>\n",
              "    <button class=\"colab-df-generate\" onclick=\"generateWithVariable('df')\"\n",
              "            title=\"Generate code using this dataframe.\"\n",
              "            style=\"display:none;\">\n",
              "\n",
              "  <svg xmlns=\"http://www.w3.org/2000/svg\" height=\"24px\"viewBox=\"0 0 24 24\"\n",
              "       width=\"24px\">\n",
              "    <path d=\"M7,19H8.4L18.45,9,17,7.55,7,17.6ZM5,21V16.75L18.45,3.32a2,2,0,0,1,2.83,0l1.4,1.43a1.91,1.91,0,0,1,.58,1.4,1.91,1.91,0,0,1-.58,1.4L9.25,21ZM18.45,9,17,7.55Zm-12,3A5.31,5.31,0,0,0,4.9,8.1,5.31,5.31,0,0,0,1,6.5,5.31,5.31,0,0,0,4.9,4.9,5.31,5.31,0,0,0,6.5,1,5.31,5.31,0,0,0,8.1,4.9,5.31,5.31,0,0,0,12,6.5,5.46,5.46,0,0,0,6.5,12Z\"/>\n",
              "  </svg>\n",
              "    </button>\n",
              "    <script>\n",
              "      (() => {\n",
              "      const buttonEl =\n",
              "        document.querySelector('#id_bda42106-0131-429d-b4f4-d24ed2314fd0 button.colab-df-generate');\n",
              "      buttonEl.style.display =\n",
              "        google.colab.kernel.accessAllowed ? 'block' : 'none';\n",
              "\n",
              "      buttonEl.onclick = () => {\n",
              "        google.colab.notebook.generateWithVariable('df');\n",
              "      }\n",
              "      })();\n",
              "    </script>\n",
              "  </div>\n",
              "\n",
              "    </div>\n",
              "  </div>\n"
            ],
            "application/vnd.google.colaboratory.intrinsic+json": {
              "type": "dataframe",
              "variable_name": "df",
              "summary": "{\n  \"name\": \"df\",\n  \"rows\": 4846,\n  \"fields\": [\n    {\n      \"column\": \"Sentence #\",\n      \"properties\": {\n        \"dtype\": \"string\",\n        \"num_unique_values\": 4846,\n        \"samples\": [\n          \"Sentence:3915\",\n          \"Sentence:2544\",\n          \"Sentence:1938\"\n        ],\n        \"semantic_type\": \"\",\n        \"description\": \"\"\n      }\n    },\n    {\n      \"column\": \"word\",\n      \"properties\": {\n        \"dtype\": \"object\",\n        \"semantic_type\": \"\",\n        \"description\": \"\"\n      }\n    },\n    {\n      \"column\": \"aspect\",\n      \"properties\": {\n        \"dtype\": \"object\",\n        \"semantic_type\": \"\",\n        \"description\": \"\"\n      }\n    },\n    {\n      \"column\": \"categort\",\n      \"properties\": {\n        \"dtype\": \"object\",\n        \"semantic_type\": \"\",\n        \"description\": \"\"\n      }\n    },\n    {\n      \"column\": \"polarity\",\n      \"properties\": {\n        \"dtype\": \"object\",\n        \"semantic_type\": \"\",\n        \"description\": \"\"\n      }\n    },\n    {\n      \"column\": \"new_col\",\n      \"properties\": {\n        \"dtype\": \"object\",\n        \"semantic_type\": \"\",\n        \"description\": \"\"\n      }\n    }\n  ]\n}"
            }
          },
          "metadata": {},
          "execution_count": 63
        }
      ]
    },
    {
      "cell_type": "markdown",
      "source": [
        "**1.3. Align word labels with tokenized inputs (Handling subwords and special tokens)**"
      ],
      "metadata": {
        "id": "3zclNXZ_eMvR"
      }
    },
    {
      "cell_type": "code",
      "source": [
        "def align_labels_with_tokens(labels, word_ids):\n",
        "    new_labels = []\n",
        "    current_word = None\n",
        "    for word_id in word_ids:\n",
        "        if word_id != current_word:\n",
        "            current_word = word_id\n",
        "            label = -100 if word_id is None else label_to_id[labels[word_id]]\n",
        "            new_labels.append(label)\n",
        "        elif word_id is None:\n",
        "            new_labels.append(-100)\n",
        "        else:\n",
        "            label = label_to_id[labels[word_id]]\n",
        "            new_labels.append(label)\n",
        "    return new_labels"
      ],
      "metadata": {
        "id": "0Aq5FvGHB7-2"
      },
      "execution_count": 65,
      "outputs": []
    },
    {
      "cell_type": "markdown",
      "source": [
        "**1.4. Tokenize and Prepare Labels for Token Classification**"
      ],
      "metadata": {
        "id": "nOzruyjeepaL"
      }
    },
    {
      "cell_type": "code",
      "source": [
        "def tokenize_and_align_labels(examples):\n",
        "    tokenized_inputs = tokenizer(\n",
        "        examples[\"tokens\"], truncation=True,padding=\"max_length\", is_split_into_words=True\n",
        "    )\n",
        "    all_labels = examples[\"labels\"]\n",
        "    new_labels = []\n",
        "    for i, labels in enumerate(all_labels):\n",
        "        word_ids = tokenized_inputs.word_ids(i)\n",
        "        new_labels.append(align_labels_with_tokens(labels, word_ids))\n",
        "\n",
        "    tokenized_inputs[\"labels\"] = new_labels\n",
        "    return tokenized_inputs\n"
      ],
      "metadata": {
        "id": "b36AO3VUB4WL"
      },
      "execution_count": 66,
      "outputs": []
    },
    {
      "cell_type": "markdown",
      "source": [
        "**1.5. Split the data and create train and test datasets**"
      ],
      "metadata": {
        "id": "_iKG9J6Hewt7"
      }
    },
    {
      "cell_type": "code",
      "source": [
        "from datasets import Dataset, DatasetDict\n",
        "from sklearn.model_selection import train_test_split\n",
        "\n",
        "train_texts, test_texts, train_labels, test_labels = train_test_split(\n",
        "    df[\"word\"].tolist(), df[\"new_col\"].tolist(), test_size=0.1, random_state=42\n",
        ")\n",
        "\n",
        "train_dataset = Dataset.from_dict({\n",
        "    \"tokens\": train_texts,\n",
        "    \"labels\": train_labels\n",
        "})\n",
        "\n",
        "test_dataset = Dataset.from_dict({\n",
        "    \"tokens\": test_texts,\n",
        "    \"labels\": test_labels\n",
        "})\n"
      ],
      "metadata": {
        "id": "j92hRcCXevOd"
      },
      "execution_count": null,
      "outputs": []
    },
    {
      "cell_type": "markdown",
      "source": [
        "**1.6. Combine into a DatasetDict**"
      ],
      "metadata": {
        "id": "KIgZBobIe-op"
      }
    },
    {
      "cell_type": "code",
      "source": [
        "datasets = DatasetDict({\n",
        "    \"train\": train_dataset,\n",
        "    \"test\": test_dataset\n",
        "})"
      ],
      "metadata": {
        "id": "Amwb9yU0ZEgI"
      },
      "execution_count": 67,
      "outputs": []
    },
    {
      "cell_type": "markdown",
      "source": [
        "# 2.0. Extract unique labels and create Label-to-ID and ID-to-Label mappings"
      ],
      "metadata": {
        "id": "3oHxnUJrfx11"
      }
    },
    {
      "cell_type": "code",
      "source": [
        "label_list = set(label for row in df['new_col'] for label in row)\n",
        "\n",
        "label_to_id = dict({label: idx for idx, label in enumerate(label_list)})\n",
        "id_to_label = dict({idx: label for label, idx in label_to_id.items()})"
      ],
      "metadata": {
        "id": "e5noLS6mZaLp"
      },
      "execution_count": 68,
      "outputs": []
    },
    {
      "cell_type": "markdown",
      "source": [
        "**2.1. Tokenize and align labels**"
      ],
      "metadata": {
        "id": "GBQbskGcf6tF"
      }
    },
    {
      "cell_type": "code",
      "source": [
        "tokenized_datasets = datasets.map(\n",
        "    tokenize_and_align_labels,\n",
        "    batched=True,\n",
        "    remove_columns=datasets[\"train\"].column_names,\n",
        ")"
      ],
      "metadata": {
        "colab": {
          "base_uri": "https://localhost:8080/",
          "height": 81,
          "referenced_widgets": [
            "55a23f5d44d041eba6dd3d662e28a71c",
            "9fcba6ed964642a1a5d9d17ebcabc7a6",
            "810f4fd71c3d46ee8f9f50bf0d7fcfd3",
            "afcc2a3ef2644537b21dee0f56766794",
            "a65ffff1681d4969a5b2fa6ce42ac934",
            "ed333bc5a3174624a72c7bd03d706e4a",
            "9b7f8a35031c4a17ad5caa624dd716b5",
            "42f8fc09775b4685a8b9e99d27a14164",
            "8041bc191615436281f48f6d412b5474",
            "d182a2a7463d4f58b3c65ba7e7d7f0ee",
            "cd5a91e54f194326b2f69ba87da1684d",
            "9ae1cab0e8974d1cbeeab554da966096",
            "23477ebdc54a4c859bfdae24ae549f1c",
            "998a791e4a8342aab6804b56a90586c0",
            "3729a82f9d5d4aa0be05eb9483346178",
            "09993dcd3059442fa90b673bc062ac1f",
            "0b096dbcb91d40ae94b16bc77a0bde5b",
            "6da53b4a5c20451ebdc3a1bb627e29f1",
            "15aa087a0a4e4cc2b0241712328bd07e",
            "0c9b8f5c78eb48deb86ec50d0054640b",
            "848c41c5ab98419eb4c962193d757985",
            "16bb6b8df36049868eb06e83bb7bbd0c"
          ]
        },
        "id": "RDQYRPplZhqi",
        "outputId": "7910d0ea-6905-42f9-917c-593e36d7397e"
      },
      "execution_count": 69,
      "outputs": [
        {
          "output_type": "display_data",
          "data": {
            "text/plain": [
              "Map:   0%|          | 0/4361 [00:00<?, ? examples/s]"
            ],
            "application/vnd.jupyter.widget-view+json": {
              "version_major": 2,
              "version_minor": 0,
              "model_id": "55a23f5d44d041eba6dd3d662e28a71c"
            }
          },
          "metadata": {}
        },
        {
          "output_type": "display_data",
          "data": {
            "text/plain": [
              "Map:   0%|          | 0/485 [00:00<?, ? examples/s]"
            ],
            "application/vnd.jupyter.widget-view+json": {
              "version_major": 2,
              "version_minor": 0,
              "model_id": "9ae1cab0e8974d1cbeeab554da966096"
            }
          },
          "metadata": {}
        }
      ]
    },
    {
      "cell_type": "markdown",
      "source": [
        "**2.2. Load Pre-trained AraBERTv2 Model**"
      ],
      "metadata": {
        "id": "A9ALykrzgwfX"
      }
    },
    {
      "cell_type": "code",
      "source": [
        "from transformers import AutoModelForTokenClassification\n",
        "\n",
        "model_checkpoint = \"aubmindlab/bert-base-arabertv2\"\n",
        "model = AutoModelForTokenClassification.from_pretrained(\n",
        "    model_checkpoint,\n",
        "    num_labels=len(label_list),\n",
        "    id2label=id_to_label,\n",
        "    label2id=label_to_id,\n",
        ")"
      ],
      "metadata": {
        "colab": {
          "base_uri": "https://localhost:8080/"
        },
        "id": "CFnyuqeWZ-ok",
        "outputId": "5393f675-8c01-4119-95a1-8fd714dad39e"
      },
      "execution_count": 70,
      "outputs": [
        {
          "output_type": "stream",
          "name": "stderr",
          "text": [
            "Some weights of BertForTokenClassification were not initialized from the model checkpoint at aubmindlab/bert-base-arabertv2 and are newly initialized: ['classifier.bias', 'classifier.weight']\n",
            "You should probably TRAIN this model on a down-stream task to be able to use it for predictions and inference.\n"
          ]
        }
      ]
    },
    {
      "cell_type": "markdown",
      "source": [
        "**2.3. Define a metric function to compute loss**"
      ],
      "metadata": {
        "id": "2DfYZF7HhKtN"
      }
    },
    {
      "cell_type": "code",
      "source": [
        "import evaluate\n",
        "\n",
        "# Load evaluation metric\n",
        "metric = evaluate.load(\"seqeval\")\n",
        "\n",
        "def compute_metrics(p):\n",
        "    predictions, labels = p\n",
        "    predictions = predictions.argmax(axis=-1)\n",
        "\n",
        "    true_predictions = [\n",
        "        [id_to_label[pred] for (pred, label) in zip(prediction, label) if label != -100]\n",
        "        for prediction, label in zip(predictions, labels)\n",
        "    ]\n",
        "    true_labels = [\n",
        "        [id_to_label[label] for (pred, label) in zip(prediction, label) if label != -100]\n",
        "        for prediction, label in zip(predictions, labels)\n",
        "    ]\n",
        "\n",
        "    results = metric.compute(predictions=true_predictions, references=true_labels)\n",
        "    return {\n",
        "        \"precision\": results[\"overall_precision\"],\n",
        "        \"recall\": results[\"overall_recall\"],\n",
        "        \"f1\": results[\"overall_f1\"],\n",
        "        \"accuracy\": results[\"overall_accuracy\"],\n",
        "    }\n"
      ],
      "metadata": {
        "id": "85-wOn0wcNPQ"
      },
      "execution_count": 71,
      "outputs": []
    },
    {
      "cell_type": "markdown",
      "source": [
        "**2.4. Define training arguments**"
      ],
      "metadata": {
        "id": "4SSPTWD2hUig"
      }
    },
    {
      "cell_type": "code",
      "source": [
        "from transformers import TrainingArguments\n",
        "\n",
        "# Define training arguments\n",
        "args = TrainingArguments(\n",
        "    output_dir=\"./results\",\n",
        "    eval_strategy=\"epoch\",\n",
        "    save_strategy=\"epoch\",\n",
        "    learning_rate=2e-5,\n",
        "    num_train_epochs=3,\n",
        "    weight_decay=0.01,\n",
        "    report_to=\"none\"\n",
        "    #push_to_hub=True,\n",
        ")"
      ],
      "metadata": {
        "id": "zglpyuu2aNpZ"
      },
      "execution_count": 72,
      "outputs": []
    },
    {
      "cell_type": "markdown",
      "source": [
        "**2.5. Define trainer to train the model**"
      ],
      "metadata": {
        "id": "gfqAXSBvh0wA"
      }
    },
    {
      "cell_type": "code",
      "source": [
        "from transformers import Trainer\n",
        "\n",
        "trainer = Trainer(\n",
        "    model=model,\n",
        "    args=args,\n",
        "    train_dataset=tokenized_datasets[\"train\"],\n",
        "    eval_dataset=tokenized_datasets[\"test\"],\n",
        "    tokenizer=tokenizer,\n",
        "    compute_metrics=compute_metrics,\n",
        ")"
      ],
      "metadata": {
        "colab": {
          "base_uri": "https://localhost:8080/"
        },
        "id": "l0B4QYzzbK9K",
        "outputId": "a341744e-d111-487f-d04b-17e7d0368e89"
      },
      "execution_count": 73,
      "outputs": [
        {
          "output_type": "stream",
          "name": "stderr",
          "text": [
            "<ipython-input-73-ccad9dea9dbc>:3: FutureWarning: `tokenizer` is deprecated and will be removed in version 5.0.0 for `Trainer.__init__`. Use `processing_class` instead.\n",
            "  trainer = Trainer(\n"
          ]
        }
      ]
    },
    {
      "cell_type": "markdown",
      "source": [
        "# **3.0. Train the model**"
      ],
      "metadata": {
        "id": "PfTguFb5iCN7"
      }
    },
    {
      "cell_type": "code",
      "source": [
        "trainer.train()"
      ],
      "metadata": {
        "colab": {
          "base_uri": "https://localhost:8080/",
          "height": 206
        },
        "id": "YQOcXwOLa4AP",
        "outputId": "77d8690f-a653-4b6d-85e7-92f5e235f087"
      },
      "execution_count": 74,
      "outputs": [
        {
          "output_type": "display_data",
          "data": {
            "text/plain": [
              "<IPython.core.display.HTML object>"
            ],
            "text/html": [
              "\n",
              "    <div>\n",
              "      \n",
              "      <progress value='1638' max='1638' style='width:300px; height:20px; vertical-align: middle;'></progress>\n",
              "      [1638/1638 21:57, Epoch 3/3]\n",
              "    </div>\n",
              "    <table border=\"1\" class=\"dataframe\">\n",
              "  <thead>\n",
              " <tr style=\"text-align: left;\">\n",
              "      <th>Epoch</th>\n",
              "      <th>Training Loss</th>\n",
              "      <th>Validation Loss</th>\n",
              "      <th>Precision</th>\n",
              "      <th>Recall</th>\n",
              "      <th>F1</th>\n",
              "      <th>Accuracy</th>\n",
              "    </tr>\n",
              "  </thead>\n",
              "  <tbody>\n",
              "    <tr>\n",
              "      <td>1</td>\n",
              "      <td>0.712500</td>\n",
              "      <td>0.472440</td>\n",
              "      <td>0.611084</td>\n",
              "      <td>0.514663</td>\n",
              "      <td>0.558744</td>\n",
              "      <td>0.859663</td>\n",
              "    </tr>\n",
              "    <tr>\n",
              "      <td>2</td>\n",
              "      <td>0.462600</td>\n",
              "      <td>0.437655</td>\n",
              "      <td>0.625118</td>\n",
              "      <td>0.544816</td>\n",
              "      <td>0.582211</td>\n",
              "      <td>0.868361</td>\n",
              "    </tr>\n",
              "    <tr>\n",
              "      <td>3</td>\n",
              "      <td>0.403400</td>\n",
              "      <td>0.432967</td>\n",
              "      <td>0.617501</td>\n",
              "      <td>0.565469</td>\n",
              "      <td>0.590341</td>\n",
              "      <td>0.868423</td>\n",
              "    </tr>\n",
              "  </tbody>\n",
              "</table><p>"
            ]
          },
          "metadata": {}
        },
        {
          "output_type": "execute_result",
          "data": {
            "text/plain": [
              "TrainOutput(global_step=1638, training_loss=0.5154023479047131, metrics={'train_runtime': 1318.6742, 'train_samples_per_second': 9.921, 'train_steps_per_second': 1.242, 'total_flos': 3418792723261440.0, 'train_loss': 0.5154023479047131, 'epoch': 3.0})"
            ]
          },
          "metadata": {},
          "execution_count": 74
        }
      ]
    },
    {
      "cell_type": "markdown",
      "source": [
        "# ***In case the training progress wasn't displayed on VS code here's screenshot***"
      ],
      "metadata": {
        "id": "tvdti3SPjyKC"
      }
    },
    {
      "cell_type": "markdown",
      "source": [
        "![Screenshot 2025-04-26 222227.png](data:image/png;base64,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)"
      ],
      "metadata": {
        "id": "QlbYqWDniZe8"
      }
    }
  ]
}